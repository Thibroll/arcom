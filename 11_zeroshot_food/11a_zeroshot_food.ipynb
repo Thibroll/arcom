{
 "cells": [
  {
   "cell_type": "code",
   "execution_count": 1,
   "metadata": {},
   "outputs": [
    {
     "name": "stderr",
     "output_type": "stream",
     "text": [
      "/Users/thibaultrolland/anaconda3/envs/arcomenv/lib/python3.8/site-packages/huggingface_hub/utils/_runtime.py:184: UserWarning: Pydantic is installed but cannot be imported. Please check your installation. `huggingface_hub` will default to not using Pydantic. Error message: '{e}'\n",
      "  warnings.warn(\n"
     ]
    }
   ],
   "source": [
    "import pandas as pd\n",
    "import datetime\n",
    "from transformers import pipeline\n",
    "import json"
   ]
  },
  {
   "cell_type": "code",
   "execution_count": 2,
   "metadata": {},
   "outputs": [
    {
     "name": "stderr",
     "output_type": "stream",
     "text": [
      "/var/folders/cf/xcc222mj0yg3dzy7mljbx99w0000gn/T/ipykernel_12390/777748067.py:1: DtypeWarning: Columns (37,38) have mixed types. Specify dtype option on import or set low_memory=False.\n",
      "  arcom_df = pd.read_csv(\"/Users/thibaultrolland/Projects/arcom/data/ARCOM.csv\")\n"
     ]
    }
   ],
   "source": [
    "arcom_df = pd.read_csv(\"/Users/thibaultrolland/Projects/arcom/data/ARCOM.csv\")"
   ]
  },
  {
   "cell_type": "code",
   "execution_count": 3,
   "metadata": {},
   "outputs": [],
   "source": [
    "def clean_themes(themes):\n",
    "    if type(themes) == str:\n",
    "        themes = themes.split(',')\n",
    "        themes = [theme.strip() for theme in themes]\n",
    "        themes = [theme.lower() for theme in themes]\n",
    "        return themes\n",
    "    return []\n",
    "\n",
    "arcom_df['clean_theme'] = arcom_df['Thème'].apply(clean_themes)\n",
    "arcom_df['clean_date'] = [datetime.datetime.strptime(x, '%d/%m/%Y').date() for x in arcom_df['Date']]\n",
    "arcom_df['visual_and_script'] = arcom_df['Visuel'] + arcom_df['Script']"
   ]
  },
  {
   "cell_type": "code",
   "execution_count": 4,
   "metadata": {},
   "outputs": [],
   "source": [
    "food_sectors = ['AALIMENTATION', 'BOISSONS', 'TOURISME-RESTAURATION']\n",
    "food_df = arcom_df[[sector in food_sectors for sector in arcom_df['Secteur']]]\n",
    "food_df = food_df[~food_df['Script'].isna()]\n",
    "food_df = food_df[~food_df['Visuel'].isna()]\n",
    "food_df['original_index'] = food_df.index\n",
    "food_df = food_df.reset_index()"
   ]
  },
  {
   "cell_type": "code",
   "execution_count": 5,
   "metadata": {},
   "outputs": [],
   "source": [
    "zeroshot_classifier = pipeline(\"zero-shot-classification\", model=\"MoritzLaurer/deberta-v3-large-zeroshot-v2.0\")\n",
    "hypothesis_template = \"Voici une description et un visuel pour une publicité, un de ses thèmes est : {}\""
   ]
  },
  {
   "cell_type": "code",
   "execution_count": 6,
   "metadata": {},
   "outputs": [],
   "source": [
    "themes = [\n",
    "    'gourmandise', \n",
    "    'santé', \n",
    "    'nutrition', \n",
    "    'joie', \n",
    "    'goût', \n",
    "    'humour', \n",
    "    'partage', \n",
    "    'authenticité', \n",
    "    'tradition', \n",
    "    'qualité', \n",
    "    'innovation', \n",
    "    'ecoresponsabilité', \n",
    "    'bien-être', \n",
    "    'famille', \n",
    "    'fête', \n",
    "    'simplicité', \n",
    "    'praticité', \n",
    "    'histoire', \n",
    "    'évasion', \n",
    "    'énergie', \n",
    "    'saisonnalité'\n",
    "    'plaisir coupable'\n",
    "    ]\n",
    "#TODO: try with emotions\n"
   ]
  },
  {
   "cell_type": "code",
   "execution_count": 7,
   "metadata": {},
   "outputs": [],
   "source": [
    "sample_len = 2000\n",
    "sample = food_df.sample(sample_len)"
   ]
  },
  {
   "cell_type": "code",
   "execution_count": 8,
   "metadata": {},
   "outputs": [
    {
     "name": "stdout",
     "output_type": "stream",
     "text": [
      "1343 / 2000; error : couldn't proceed id 31879\n",
      "1347 / 2000; error : couldn't proceed id 27596\n",
      "1349 / 2000; error : couldn't proceed id 28565\n",
      "1356 / 2000; error : couldn't proceed id 14911\n",
      "1392 / 2000; error : couldn't proceed id 33007\n",
      "computing zero shot for ad : 2000 / 2000\r"
     ]
    }
   ],
   "source": [
    "output_list = []\n",
    "\n",
    "\n",
    "i = 0\n",
    "for index, row in sample.iterrows():\n",
    "    print(f'computing zero shot for ad : {i+1} / {sample_len}', end='\\r')\n",
    "    original_index = row['original_index']\n",
    "    try:\n",
    "        output= zeroshot_classifier(row['visual_and_script'], themes, hypothesis_template=hypothesis_template, multi_label=True)\n",
    "        output['error'] = False\n",
    "    except KeyboardInterrupt:\n",
    "        print('Interrupted by user.')\n",
    "    except:\n",
    "        print(f'{i+1} / {sample_len}; error : couldn\\'t proceed id {original_index}')\n",
    "        output = {'error': True}\n",
    "    output['id'] = original_index\n",
    "    output_list.append(output)\n",
    "    i += 1\n",
    "\n"
   ]
  },
  {
   "cell_type": "code",
   "execution_count": 9,
   "metadata": {},
   "outputs": [],
   "source": [
    "with open('11a_zeroshot_food.json', 'w') as json_file:\n",
    "    json.dump(output_list, json_file)"
   ]
  },
  {
   "cell_type": "code",
   "execution_count": null,
   "metadata": {},
   "outputs": [],
   "source": []
  },
  {
   "cell_type": "code",
   "execution_count": null,
   "metadata": {},
   "outputs": [],
   "source": []
  }
 ],
 "metadata": {
  "kernelspec": {
   "display_name": "Python 3",
   "language": "python",
   "name": "python3"
  },
  "language_info": {
   "codemirror_mode": {
    "name": "ipython",
    "version": 3
   },
   "file_extension": ".py",
   "mimetype": "text/x-python",
   "name": "python",
   "nbconvert_exporter": "python",
   "pygments_lexer": "ipython3",
   "version": "3.8.18"
  }
 },
 "nbformat": 4,
 "nbformat_minor": 2
}
