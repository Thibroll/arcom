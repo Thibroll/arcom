{
 "cells": [
  {
   "cell_type": "code",
   "execution_count": 1,
   "metadata": {},
   "outputs": [],
   "source": [
    "import pandas as pd\n",
    "import json"
   ]
  },
  {
   "cell_type": "code",
   "execution_count": 2,
   "metadata": {},
   "outputs": [],
   "source": [
    "def convert_json_to_csv(file_path_input, file_path_output):\n",
    "    with open(file_path_input, 'r') as file:\n",
    "        data = json.load(file)\n",
    "    data_out = []\n",
    "\n",
    "    for row in data:\n",
    "        updated_row = {\n",
    "            'sequence': row['sequence'],\n",
    "            'error': row['error'],\n",
    "            'arcom_id': row['id'],\n",
    "        }\n",
    "        for i in range(len(row['labels'])):\n",
    "            updated_row[row['labels'][i]] = row['scores'][i]\n",
    "        data_out.append(updated_row)\n",
    "\n",
    "    df_out = pd.DataFrame(data_out)\n",
    "    df_out.to_csv(file_path_output, sep=\"|\")"
   ]
  },
  {
   "cell_type": "code",
   "execution_count": 21,
   "metadata": {},
   "outputs": [],
   "source": [
    "file_path_input = '11b_zeroshot_drinks_cognitivethemes.json'\n",
    "file_path_output = '11b_zeroshot_drinks_cognitivethemes.csv'\n",
    "convert_json_to_csv(file_path_input, file_path_output)"
   ]
  },
  {
   "cell_type": "code",
   "execution_count": 22,
   "metadata": {},
   "outputs": [],
   "source": [
    "file_path_input = '11b_zeroshot_drinks_emotions.json'\n",
    "file_path_output = '11b_zeroshot_drinks_emotions.csv'\n",
    "convert_json_to_csv(file_path_input, file_path_output)"
   ]
  },
  {
   "cell_type": "code",
   "execution_count": 25,
   "metadata": {},
   "outputs": [],
   "source": [
    "file_path_input = '11b_zeroshot_drinks_visualassets.json'\n",
    "file_path_output = '11b_zeroshot_drinks_visualassets.csv'\n",
    "convert_json_to_csv(file_path_input, file_path_output)"
   ]
  },
  {
   "cell_type": "code",
   "execution_count": 3,
   "metadata": {},
   "outputs": [],
   "source": [
    "file_path_input = '11e_zeroshot_food_cognitivethemes.json'\n",
    "file_path_output = '11e_zeroshot_food_cognitivethemes.csv'\n",
    "convert_json_to_csv(file_path_input, file_path_output)"
   ]
  },
  {
   "cell_type": "code",
   "execution_count": 4,
   "metadata": {},
   "outputs": [],
   "source": [
    "file_path_input = '11e_zeroshot_food_emotions.json'\n",
    "file_path_output = '11e_zeroshot_food_emotions.csv'\n",
    "convert_json_to_csv(file_path_input, file_path_output)"
   ]
  },
  {
   "cell_type": "code",
   "execution_count": 5,
   "metadata": {},
   "outputs": [],
   "source": [
    "file_path_input = '11e_zeroshot_food_visualassets.json'\n",
    "file_path_output = '11e_zeroshot_food_visualassets.csv'\n",
    "convert_json_to_csv(file_path_input, file_path_output)"
   ]
  },
  {
   "cell_type": "code",
   "execution_count": null,
   "metadata": {},
   "outputs": [],
   "source": []
  }
 ],
 "metadata": {
  "kernelspec": {
   "display_name": "Python 3",
   "language": "python",
   "name": "python3"
  },
  "language_info": {
   "codemirror_mode": {
    "name": "ipython",
    "version": 3
   },
   "file_extension": ".py",
   "mimetype": "text/x-python",
   "name": "python",
   "nbconvert_exporter": "python",
   "pygments_lexer": "ipython3",
   "version": "3.8.18"
  }
 },
 "nbformat": 4,
 "nbformat_minor": 2
}
