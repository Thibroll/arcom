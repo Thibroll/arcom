{
 "cells": [
  {
   "cell_type": "code",
   "execution_count": 1,
   "metadata": {},
   "outputs": [
    {
     "name": "stderr",
     "output_type": "stream",
     "text": [
      "/Users/thibaultrolland/anaconda3/envs/arcomenv/lib/python3.8/site-packages/huggingface_hub/utils/_runtime.py:184: UserWarning: Pydantic is installed but cannot be imported. Please check your installation. `huggingface_hub` will default to not using Pydantic. Error message: '{e}'\n",
      "  warnings.warn(\n"
     ]
    }
   ],
   "source": [
    "import pandas as pd\n",
    "import datetime\n",
    "from transformers import pipeline\n",
    "import json"
   ]
  },
  {
   "cell_type": "code",
   "execution_count": 2,
   "metadata": {},
   "outputs": [
    {
     "name": "stderr",
     "output_type": "stream",
     "text": [
      "/var/folders/cf/xcc222mj0yg3dzy7mljbx99w0000gn/T/ipykernel_90008/777748067.py:1: DtypeWarning: Columns (37,38) have mixed types. Specify dtype option on import or set low_memory=False.\n",
      "  arcom_df = pd.read_csv(\"/Users/thibaultrolland/Projects/arcom/data/ARCOM.csv\")\n"
     ]
    }
   ],
   "source": [
    "arcom_df = pd.read_csv(\"/Users/thibaultrolland/Projects/arcom/data/ARCOM.csv\")"
   ]
  },
  {
   "cell_type": "code",
   "execution_count": 3,
   "metadata": {},
   "outputs": [],
   "source": [
    "def clean_themes(themes):\n",
    "    if type(themes) == str:\n",
    "        themes = themes.split(',')\n",
    "        themes = [theme.strip() for theme in themes]\n",
    "        themes = [theme.lower() for theme in themes]\n",
    "        return themes\n",
    "    return []\n",
    "\n",
    "arcom_df['clean_theme'] = arcom_df['Thème'].apply(clean_themes)\n",
    "arcom_df['clean_date'] = [datetime.datetime.strptime(x, '%d/%m/%Y').date() for x in arcom_df['Date']]\n",
    "arcom_df['visual_and_script'] = arcom_df['Visuel'] + arcom_df['Script']"
   ]
  },
  {
   "cell_type": "code",
   "execution_count": 4,
   "metadata": {},
   "outputs": [],
   "source": [
    "food_sectors = ['BOISSONS']\n",
    "food_df = arcom_df[[sector in food_sectors for sector in arcom_df['Secteur']]]\n",
    "food_df = food_df[~food_df['Script'].isna()]\n",
    "food_df = food_df[~food_df['Visuel'].isna()]\n",
    "food_df['original_index'] = food_df.index\n",
    "food_df = food_df.reset_index()"
   ]
  },
  {
   "cell_type": "code",
   "execution_count": 5,
   "metadata": {},
   "outputs": [],
   "source": [
    "zeroshot_classifier = pipeline(\"zero-shot-classification\", model=\"MoritzLaurer/deberta-v3-large-zeroshot-v2.0\")\n"
   ]
  },
  {
   "cell_type": "code",
   "execution_count": 9,
   "metadata": {},
   "outputs": [],
   "source": [
    "sample_len = len(food_df) #1076\n",
    "sample = food_df.sample(sample_len)"
   ]
  },
  {
   "cell_type": "raw",
   "metadata": {},
   "source": [
    "Les labels du discours\n",
    "\n",
    "\n",
    "Thèmes  (dimension cognitive): \n",
    "Goût\n",
    "Gourmandise\n",
    "bon pour la santé\n",
    "Nutrition\n",
    "Diététique\n",
    "Origine\n",
    "Signes et labels de qualité\n",
    "Naturel\n",
    "Simplicité\n",
    "convivialité et amitié\n",
    "snacking\n",
    "festif\n",
    "savoir-faire\n",
    "sensation\n",
    "rapidité\n",
    "\n",
    "Éléments de mise  en scène\n",
    "Mascotte\n",
    "Famille\n",
    "Saga\n",
    "Danse\n",
    "bonne humeur\n",
    "animaux\n",
    "Recette\n",
    "enfants\n",
    "ruralité\n",
    "parents\n",
    "interpellation\n",
    "Paysage\n",
    "\n",
    "Émotions et affects partagées\n",
    "Joie\n",
    "Colère\n",
    "Confiance\n",
    "Sérénité\n",
    "Humour /ironie\n",
    "bonne humeur\n",
    "étonnement\n",
    "surprise\n",
    "plaisir\n",
    "Complicité\n"
   ]
  },
  {
   "cell_type": "code",
   "execution_count": 6,
   "metadata": {},
   "outputs": [],
   "source": [
    "themes = [\n",
    "    'Goût',\n",
    "    'Gourmandise',\n",
    "    'santé',\n",
    "    'Nutrition',\n",
    "    'Diététique',\n",
    "    'Origine',\n",
    "    'qualité',\n",
    "    'Naturel',\n",
    "    'Simplicité',\n",
    "    'convivialité',\n",
    "    'amitié',\n",
    "    'snacking',\n",
    "    'festif',\n",
    "    'savoir-faire',\n",
    "    'sensation',\n",
    "    'rapidité'\n",
    "    ]\n"
   ]
  },
  {
   "cell_type": "code",
   "execution_count": null,
   "metadata": {},
   "outputs": [],
   "source": [
    "hypothesis_template = \"Voici une description et un visuel pour une publicité, un de ses thèmes est : {}\""
   ]
  },
  {
   "cell_type": "code",
   "execution_count": 10,
   "metadata": {},
   "outputs": [
    {
     "name": "stdout",
     "output_type": "stream",
     "text": [
      "computing zero shot for ad : 1076 / 1076\r"
     ]
    }
   ],
   "source": [
    "output_list = []\n",
    "\n",
    "\n",
    "i = 0\n",
    "for index, row in sample.iterrows():\n",
    "    print(f'computing zero shot for ad : {i+1} / {sample_len}', end='\\r')\n",
    "    original_index = row['original_index']\n",
    "    try:\n",
    "        output= zeroshot_classifier(row['visual_and_script'], themes, hypothesis_template=hypothesis_template, multi_label=True)\n",
    "        output['error'] = False\n",
    "    except KeyboardInterrupt:\n",
    "        print('Interrupted by user.')\n",
    "    except:\n",
    "        print(f'{i+1} / {sample_len}; error : couldn\\'t proceed id {original_index}')\n",
    "        output = {'error': True}\n",
    "    output['id'] = original_index\n",
    "    output_list.append(output)\n",
    "    i += 1\n",
    "\n",
    "\n"
   ]
  },
  {
   "cell_type": "code",
   "execution_count": 11,
   "metadata": {},
   "outputs": [],
   "source": [
    "with open('11b_zeroshot_drinks_cognitivethemes.json', 'w') as json_file:\n",
    "    json.dump(output_list, json_file)"
   ]
  },
  {
   "cell_type": "markdown",
   "metadata": {},
   "source": [
    "# Emotions"
   ]
  },
  {
   "cell_type": "code",
   "execution_count": 10,
   "metadata": {},
   "outputs": [],
   "source": [
    "emotion_themes = [\n",
    "    'Joie',\n",
    "    'Colère',\n",
    "    'Confiance',\n",
    "    'Sérénité',\n",
    "    'Humour /ironie',\n",
    "    'bonne humeur',\n",
    "    'étonnement',\n",
    "    'surprise',\n",
    "    'plaisir',\n",
    "    'Complicité'\n",
    "    ]\n",
    "\n",
    "emotion_hypothesis_template = \"Voici une description et un visuel pour une publicité, son émotion est : {}\""
   ]
  },
  {
   "cell_type": "code",
   "execution_count": 11,
   "metadata": {},
   "outputs": [
    {
     "name": "stdout",
     "output_type": "stream",
     "text": [
      "computing zero shot for ad : 1076 / 1076\r"
     ]
    }
   ],
   "source": [
    "output_list = []\n",
    "\n",
    "\n",
    "i = 0\n",
    "for index, row in sample.iterrows():\n",
    "    print(f'computing zero shot for ad : {i+1} / {sample_len}', end='\\r')\n",
    "    original_index = row['original_index']\n",
    "    try:\n",
    "        output= zeroshot_classifier(row['visual_and_script'], emotion_themes, hypothesis_template=emotion_hypothesis_template, multi_label=True)\n",
    "        output['error'] = False\n",
    "    except KeyboardInterrupt:\n",
    "        print('Interrupted by user.')\n",
    "    except:\n",
    "        print(f'{i+1} / {sample_len}; error : couldn\\'t proceed id {original_index}')\n",
    "        output = {'error': True}\n",
    "    output['id'] = original_index\n",
    "    output_list.append(output)\n",
    "    i += 1\n",
    "\n"
   ]
  },
  {
   "cell_type": "code",
   "execution_count": 12,
   "metadata": {},
   "outputs": [],
   "source": [
    "with open('11b_zeroshot_drinks_emotions.json', 'w') as json_file:\n",
    "    json.dump(output_list, json_file)"
   ]
  },
  {
   "cell_type": "markdown",
   "metadata": {},
   "source": [
    "# Elements de mise en scène"
   ]
  },
  {
   "cell_type": "code",
   "execution_count": 14,
   "metadata": {},
   "outputs": [],
   "source": [
    "visual_assets_themes = ['Mascotte',\n",
    "    'Famille',\n",
    "    'Saga',\n",
    "    'Danse',\n",
    "    'bonne humeur',\n",
    "    'animaux',\n",
    "    'Recette',\n",
    "    'enfants',\n",
    "    'ruralité',\n",
    "    'parents',\n",
    "    'interpellation',\n",
    "    'Paysage']"
   ]
  },
  {
   "cell_type": "code",
   "execution_count": 15,
   "metadata": {},
   "outputs": [],
   "source": [
    "visual_assets_hypothesis_template = \"Voici un visuel pour une publicité, son thème est : {}\""
   ]
  },
  {
   "cell_type": "code",
   "execution_count": 16,
   "metadata": {},
   "outputs": [
    {
     "name": "stdout",
     "output_type": "stream",
     "text": [
      "computing zero shot for ad : 1076 / 1076\r"
     ]
    }
   ],
   "source": [
    "output_list = []\n",
    "\n",
    "\n",
    "i = 0\n",
    "for index, row in sample.iterrows():\n",
    "    print(f'computing zero shot for ad : {i+1} / {sample_len}', end='\\r')\n",
    "    original_index = row['original_index']\n",
    "    try:\n",
    "        output= zeroshot_classifier(row['Visuel'], visual_assets_themes, hypothesis_template=visual_assets_hypothesis_template, multi_label=True)\n",
    "        output['error'] = False\n",
    "    except KeyboardInterrupt:\n",
    "        print('Interrupted by user.')\n",
    "    except:\n",
    "        print(f'{i+1} / {sample_len}; error : couldn\\'t proceed id {original_index}')\n",
    "        output = {'error': True}\n",
    "    output['id'] = original_index\n",
    "    output_list.append(output)\n",
    "    i += 1\n",
    "\n"
   ]
  },
  {
   "cell_type": "code",
   "execution_count": 17,
   "metadata": {},
   "outputs": [],
   "source": [
    "with open('11b_zeroshot_drinks_visualassets.json', 'w') as json_file:\n",
    "    json.dump(output_list, json_file)"
   ]
  },
  {
   "cell_type": "code",
   "execution_count": null,
   "metadata": {},
   "outputs": [],
   "source": []
  }
 ],
 "metadata": {
  "kernelspec": {
   "display_name": "Python 3",
   "language": "python",
   "name": "python3"
  },
  "language_info": {
   "codemirror_mode": {
    "name": "ipython",
    "version": 3
   },
   "file_extension": ".py",
   "mimetype": "text/x-python",
   "name": "python",
   "nbconvert_exporter": "python",
   "pygments_lexer": "ipython3",
   "version": "3.8.18"
  }
 },
 "nbformat": 4,
 "nbformat_minor": 2
}
