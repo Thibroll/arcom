{
 "cells": [
  {
   "cell_type": "code",
   "execution_count": 25,
   "metadata": {},
   "outputs": [],
   "source": [
    "import pandas as pd\n",
    "import numpy as np\n",
    "import json\n",
    "import matplotlib.pyplot as plt\n",
    "import math\n",
    "\n",
    "import gensim\n",
    "from gensim import corpora\n",
    "from pprint import pprint\n"
   ]
  },
  {
   "cell_type": "markdown",
   "metadata": {},
   "source": [
    "# data import"
   ]
  },
  {
   "cell_type": "code",
   "execution_count": 13,
   "metadata": {},
   "outputs": [
    {
     "name": "stderr",
     "output_type": "stream",
     "text": [
      "/var/folders/cf/xcc222mj0yg3dzy7mljbx99w0000gn/T/ipykernel_72466/3360868185.py:1: DtypeWarning: Columns (0,9,15,21,22,23,29,30,31,32,33,42,44,50,54,65,70,148) have mixed types. Specify dtype option on import or set low_memory=False.\n",
      "  raw_off_df = pd.read_csv(\"/Users/thibaultrolland/Projects/arcom/data/en.openfoodfacts.org.products.csv\", sep='\\t')\n"
     ]
    }
   ],
   "source": [
    "raw_off_df = pd.read_csv(\"/Users/thibaultrolland/Projects/arcom/data/en.openfoodfacts.org.products.csv\", sep='\\t')"
   ]
  },
  {
   "cell_type": "code",
   "execution_count": 14,
   "metadata": {},
   "outputs": [
    {
     "name": "stderr",
     "output_type": "stream",
     "text": [
      "/var/folders/cf/xcc222mj0yg3dzy7mljbx99w0000gn/T/ipykernel_72466/1379898180.py:1: DtypeWarning: Columns (37,38) have mixed types. Specify dtype option on import or set low_memory=False.\n",
      "  raw_arcom_df = pd.read_csv(\"/Users/thibaultrolland/Projects/arcom/data/ARCOM.csv\")\n"
     ]
    }
   ],
   "source": [
    "raw_arcom_df = pd.read_csv(\"/Users/thibaultrolland/Projects/arcom/data/ARCOM.csv\")"
   ]
  },
  {
   "cell_type": "code",
   "execution_count": 16,
   "metadata": {},
   "outputs": [],
   "source": [
    "with open('data/cross_arcom_off/index_per_brand.json', 'r') as file:\n",
    "    index_per_brand = json.load(file)"
   ]
  },
  {
   "cell_type": "markdown",
   "metadata": {},
   "source": [
    "# product data"
   ]
  },
  {
   "cell_type": "markdown",
   "metadata": {},
   "source": [
    "## Rolling mean"
   ]
  },
  {
   "cell_type": "code",
   "execution_count": 92,
   "metadata": {},
   "outputs": [],
   "source": [
    "product_names = []\n",
    "brands = []\n",
    "off_index = []\n",
    "ecoscore = []\n",
    "nutriscore = []\n",
    "arcom_index_list = []\n",
    "for brand, value in index_per_brand.items():\n",
    "    id_list = value['off_id']\n",
    "    for id in id_list:\n",
    "        row = raw_off_df.loc[id]\n",
    "        product = row['product_name']\n",
    "        product_names.append(product)\n",
    "        brands.append(brand)\n",
    "        nutriscore.append(row['nutriscore_grade'])\n",
    "        ecoscore.append(row['ecoscore_grade'])\n",
    "        off_index.append(id)\n",
    "\n",
    "product_names_df = pd.DataFrame({\n",
    "    'brand': brands, \n",
    "    'nutriscore': nutriscore,\n",
    "    'ecoscore': ecoscore,\n",
    "    'product': product_names, \n",
    "    'off_index': off_index})"
   ]
  },
  {
   "cell_type": "code",
   "execution_count": 93,
   "metadata": {},
   "outputs": [],
   "source": [
    "# nutriscore analysis"
   ]
  },
  {
   "cell_type": "code",
   "execution_count": 94,
   "metadata": {},
   "outputs": [],
   "source": [
    "score_list = ['a','b','c','d','e']"
   ]
  },
  {
   "cell_type": "code",
   "execution_count": 95,
   "metadata": {},
   "outputs": [
    {
     "name": "stderr",
     "output_type": "stream",
     "text": [
      "/var/folders/cf/xcc222mj0yg3dzy7mljbx99w0000gn/T/ipykernel_72466/2214760266.py:5: SettingWithCopyWarning: \n",
      "A value is trying to be set on a copy of a slice from a DataFrame.\n",
      "Try using .loc[row_indexer,col_indexer] = value instead\n",
      "\n",
      "See the caveats in the documentation: https://pandas.pydata.org/pandas-docs/stable/user_guide/indexing.html#returning-a-view-versus-a-copy\n",
      "  nutri_prod_df['numeric_score'] = nutri_prod_df['nutriscore'].apply(lambda x: score_conversion_table[x])\n"
     ]
    }
   ],
   "source": [
    "score_conversion_table = {'a': 5, 'b': 4, 'c': 3, 'd': 2, 'e': 1}\n",
    "inv_score_conversion_table = { 5: 'a', 4: 'b', 3: 'c', 2: 'd', 1: 'e' }\n",
    "\n",
    "nutri_prod_df = product_names_df[[x in score_list for x in product_names_df.nutriscore]]\n",
    "nutri_prod_df['numeric_score'] = nutri_prod_df['nutriscore'].apply(lambda x: score_conversion_table[x])"
   ]
  },
  {
   "cell_type": "code",
   "execution_count": 96,
   "metadata": {},
   "outputs": [],
   "source": [
    "median_scores = nutri_prod_df.groupby('brand')['numeric_score'].agg(['mean', 'median', 'std'])\n",
    "median_scores = median_scores.sort_values(by='mean')"
   ]
  },
  {
   "cell_type": "code",
   "execution_count": 97,
   "metadata": {},
   "outputs": [
    {
     "data": {
      "text/html": [
       "<div>\n",
       "<style scoped>\n",
       "    .dataframe tbody tr th:only-of-type {\n",
       "        vertical-align: middle;\n",
       "    }\n",
       "\n",
       "    .dataframe tbody tr th {\n",
       "        vertical-align: top;\n",
       "    }\n",
       "\n",
       "    .dataframe thead th {\n",
       "        text-align: right;\n",
       "    }\n",
       "</style>\n",
       "<table border=\"1\" class=\"dataframe\">\n",
       "  <thead>\n",
       "    <tr style=\"text-align: right;\">\n",
       "      <th></th>\n",
       "      <th>mean</th>\n",
       "      <th>median</th>\n",
       "      <th>std</th>\n",
       "    </tr>\n",
       "    <tr>\n",
       "      <th>brand</th>\n",
       "      <th></th>\n",
       "      <th></th>\n",
       "      <th></th>\n",
       "    </tr>\n",
       "  </thead>\n",
       "  <tbody>\n",
       "    <tr>\n",
       "      <th>speculoos</th>\n",
       "      <td>1.000000</td>\n",
       "      <td>1.0</td>\n",
       "      <td>NaN</td>\n",
       "    </tr>\n",
       "    <tr>\n",
       "      <th>laboratoire gallia</th>\n",
       "      <td>1.000000</td>\n",
       "      <td>1.0</td>\n",
       "      <td>0.000000</td>\n",
       "    </tr>\n",
       "    <tr>\n",
       "      <th>sheba</th>\n",
       "      <td>1.000000</td>\n",
       "      <td>1.0</td>\n",
       "      <td>NaN</td>\n",
       "    </tr>\n",
       "    <tr>\n",
       "      <th>lindt creation</th>\n",
       "      <td>1.000000</td>\n",
       "      <td>1.0</td>\n",
       "      <td>0.000000</td>\n",
       "    </tr>\n",
       "    <tr>\n",
       "      <th>knoppers</th>\n",
       "      <td>1.000000</td>\n",
       "      <td>1.0</td>\n",
       "      <td>0.000000</td>\n",
       "    </tr>\n",
       "    <tr>\n",
       "      <th>...</th>\n",
       "      <td>...</td>\n",
       "      <td>...</td>\n",
       "      <td>...</td>\n",
       "    </tr>\n",
       "    <tr>\n",
       "      <th>matines</th>\n",
       "      <td>4.973684</td>\n",
       "      <td>5.0</td>\n",
       "      <td>0.162221</td>\n",
       "    </tr>\n",
       "    <tr>\n",
       "      <th>materne pom potes</th>\n",
       "      <td>5.000000</td>\n",
       "      <td>5.0</td>\n",
       "      <td>NaN</td>\n",
       "    </tr>\n",
       "    <tr>\n",
       "      <th>max havelaar</th>\n",
       "      <td>5.000000</td>\n",
       "      <td>5.0</td>\n",
       "      <td>NaN</td>\n",
       "    </tr>\n",
       "    <tr>\n",
       "      <th>princesse amandine</th>\n",
       "      <td>5.000000</td>\n",
       "      <td>5.0</td>\n",
       "      <td>NaN</td>\n",
       "    </tr>\n",
       "    <tr>\n",
       "      <th>poulehouse</th>\n",
       "      <td>5.000000</td>\n",
       "      <td>5.0</td>\n",
       "      <td>NaN</td>\n",
       "    </tr>\n",
       "  </tbody>\n",
       "</table>\n",
       "<p>415 rows × 3 columns</p>\n",
       "</div>"
      ],
      "text/plain": [
       "                        mean  median       std\n",
       "brand                                         \n",
       "speculoos           1.000000     1.0       NaN\n",
       "laboratoire gallia  1.000000     1.0  0.000000\n",
       "sheba               1.000000     1.0       NaN\n",
       "lindt creation      1.000000     1.0  0.000000\n",
       "knoppers            1.000000     1.0  0.000000\n",
       "...                      ...     ...       ...\n",
       "matines             4.973684     5.0  0.162221\n",
       "materne pom potes   5.000000     5.0       NaN\n",
       "max havelaar        5.000000     5.0       NaN\n",
       "princesse amandine  5.000000     5.0       NaN\n",
       "poulehouse          5.000000     5.0       NaN\n",
       "\n",
       "[415 rows x 3 columns]"
      ]
     },
     "execution_count": 97,
     "metadata": {},
     "output_type": "execute_result"
    }
   ],
   "source": [
    "median_scores"
   ]
  },
  {
   "cell_type": "code",
   "execution_count": 74,
   "metadata": {},
   "outputs": [
    {
     "data": {
      "image/png": "[encoded data removed]",
      "text/plain": [
       "<Figure size 640x480 with 1 Axes>"
      ]
     },
     "metadata": {},
     "output_type": "display_data"
    }
   ],
   "source": [
    "window_size = 100\n",
    "\n",
    "def count_in_window(data, windows_count):\n",
    "    count = []\n",
    "    data_point = []\n",
    "    w_size = (max(data) - min(data)) / windows_count\n",
    "    boundaries = [min(data), min(data) + w_size]\n",
    "    for i in range(windows_count):\n",
    "        count.append(len([x for x in data if boundaries[0] <= x < boundaries[1]]))\n",
    "        data_point.append((boundaries[1] + boundaries[0])/2)\n",
    "        boundaries[0] += w_size\n",
    "        boundaries[1] += w_size\n",
    "    return data_point, count\n",
    "\n",
    "\n",
    "means = list(median_scores['mean'])\n",
    "X, y = count_in_window(means, window_size)\n",
    "\n",
    "plt.plot(X,y)\n",
    "plt.title('mean')\n",
    "plt.show()\n",
    "\n",
    "\n",
    "#median_count = median_scores['median'].value_counts()\n",
    "#plt.bar(median_count.index, median_count)\n",
    "#plt.title('median')\n",
    "#plt.show()\n",
    "\n"
   ]
  },
  {
   "cell_type": "markdown",
   "metadata": {},
   "source": [
    "## brands per category"
   ]
  },
  {
   "cell_type": "code",
   "execution_count": 135,
   "metadata": {},
   "outputs": [],
   "source": [
    "from gensim import corpora\n",
    "from gensim.models import LdaModel\n",
    "from wordcloud import WordCloud\n",
    "from itertools import chain\n",
    "import ast"
   ]
  },
  {
   "cell_type": "code",
   "execution_count": 112,
   "metadata": {},
   "outputs": [
    {
     "data": {
      "text/html": [
       "<div>\n",
       "<style scoped>\n",
       "    .dataframe tbody tr th:only-of-type {\n",
       "        vertical-align: middle;\n",
       "    }\n",
       "\n",
       "    .dataframe tbody tr th {\n",
       "        vertical-align: top;\n",
       "    }\n",
       "\n",
       "    .dataframe thead th {\n",
       "        text-align: right;\n",
       "    }\n",
       "</style>\n",
       "<table border=\"1\" class=\"dataframe\">\n",
       "  <thead>\n",
       "    <tr style=\"text-align: right;\">\n",
       "      <th></th>\n",
       "      <th>mean</th>\n",
       "      <th>median</th>\n",
       "      <th>std</th>\n",
       "      <th>arcom_indexes</th>\n",
       "    </tr>\n",
       "    <tr>\n",
       "      <th>brand</th>\n",
       "      <th></th>\n",
       "      <th></th>\n",
       "      <th></th>\n",
       "      <th></th>\n",
       "    </tr>\n",
       "  </thead>\n",
       "  <tbody>\n",
       "    <tr>\n",
       "      <th>speculoos</th>\n",
       "      <td>1.000000</td>\n",
       "      <td>1</td>\n",
       "      <td>NaN</td>\n",
       "      <td>[22785, 11106, 6865, 28945, 12851, 10492, 10495]</td>\n",
       "    </tr>\n",
       "    <tr>\n",
       "      <th>laboratoire gallia</th>\n",
       "      <td>1.000000</td>\n",
       "      <td>1</td>\n",
       "      <td>0.000000</td>\n",
       "      <td>[44672, 35732, 6691, 39717, 2606, 2358, 7095, ...</td>\n",
       "    </tr>\n",
       "    <tr>\n",
       "      <th>sheba</th>\n",
       "      <td>1.000000</td>\n",
       "      <td>1</td>\n",
       "      <td>NaN</td>\n",
       "      <td>[8454, 12683, 40748, 24653, 29791]</td>\n",
       "    </tr>\n",
       "    <tr>\n",
       "      <th>lindt creation</th>\n",
       "      <td>1.000000</td>\n",
       "      <td>1</td>\n",
       "      <td>0.000000</td>\n",
       "      <td>[15874, 17867, 15852, 17869, 17870, 11247, 818...</td>\n",
       "    </tr>\n",
       "    <tr>\n",
       "      <th>knoppers</th>\n",
       "      <td>1.000000</td>\n",
       "      <td>1</td>\n",
       "      <td>0.000000</td>\n",
       "      <td>[50112, 50113, 50177, 50181, 50153, 45941, 50168]</td>\n",
       "    </tr>\n",
       "    <tr>\n",
       "      <th>...</th>\n",
       "      <td>...</td>\n",
       "      <td>...</td>\n",
       "      <td>...</td>\n",
       "      <td>...</td>\n",
       "    </tr>\n",
       "    <tr>\n",
       "      <th>matines</th>\n",
       "      <td>4.973684</td>\n",
       "      <td>5</td>\n",
       "      <td>0.162221</td>\n",
       "      <td>[5250, 10210, 550, 1799, 10215, 1776, 15442, 1...</td>\n",
       "    </tr>\n",
       "    <tr>\n",
       "      <th>materne pom potes</th>\n",
       "      <td>5.000000</td>\n",
       "      <td>5</td>\n",
       "      <td>NaN</td>\n",
       "      <td>[25889, 25912, 32449, 13124, 32454, 27368, 324...</td>\n",
       "    </tr>\n",
       "    <tr>\n",
       "      <th>max havelaar</th>\n",
       "      <td>5.000000</td>\n",
       "      <td>5</td>\n",
       "      <td>NaN</td>\n",
       "      <td>[44776, 45261, 44774]</td>\n",
       "    </tr>\n",
       "    <tr>\n",
       "      <th>princesse amandine</th>\n",
       "      <td>5.000000</td>\n",
       "      <td>5</td>\n",
       "      <td>NaN</td>\n",
       "      <td>[12146, 2691, 35645, 28039]</td>\n",
       "    </tr>\n",
       "    <tr>\n",
       "      <th>poulehouse</th>\n",
       "      <td>5.000000</td>\n",
       "      <td>5</td>\n",
       "      <td>NaN</td>\n",
       "      <td>[29251, 29252]</td>\n",
       "    </tr>\n",
       "  </tbody>\n",
       "</table>\n",
       "<p>415 rows × 4 columns</p>\n",
       "</div>"
      ],
      "text/plain": [
       "                        mean  median       std  \\\n",
       "brand                                            \n",
       "speculoos           1.000000       1       NaN   \n",
       "laboratoire gallia  1.000000       1  0.000000   \n",
       "sheba               1.000000       1       NaN   \n",
       "lindt creation      1.000000       1  0.000000   \n",
       "knoppers            1.000000       1  0.000000   \n",
       "...                      ...     ...       ...   \n",
       "matines             4.973684       5  0.162221   \n",
       "materne pom potes   5.000000       5       NaN   \n",
       "max havelaar        5.000000       5       NaN   \n",
       "princesse amandine  5.000000       5       NaN   \n",
       "poulehouse          5.000000       5       NaN   \n",
       "\n",
       "                                                        arcom_indexes  \n",
       "brand                                                                  \n",
       "speculoos            [22785, 11106, 6865, 28945, 12851, 10492, 10495]  \n",
       "laboratoire gallia  [44672, 35732, 6691, 39717, 2606, 2358, 7095, ...  \n",
       "sheba                              [8454, 12683, 40748, 24653, 29791]  \n",
       "lindt creation      [15874, 17867, 15852, 17869, 17870, 11247, 818...  \n",
       "knoppers            [50112, 50113, 50177, 50181, 50153, 45941, 50168]  \n",
       "...                                                               ...  \n",
       "matines             [5250, 10210, 550, 1799, 10215, 1776, 15442, 1...  \n",
       "materne pom potes   [25889, 25912, 32449, 13124, 32454, 27368, 324...  \n",
       "max havelaar                                    [44776, 45261, 44774]  \n",
       "princesse amandine                        [12146, 2691, 35645, 28039]  \n",
       "poulehouse                                             [29251, 29252]  \n",
       "\n",
       "[415 rows x 4 columns]"
      ]
     },
     "execution_count": 112,
     "metadata": {},
     "output_type": "execute_result"
    }
   ],
   "source": [
    "brand_score_df = median_scores\n",
    "brand_score_df['arcom_indexes'] = [index_per_brand[index]['arcom_id'] for index in brand_score_df.index]\n",
    "brand_score_df['median'] = brand_score_df['median'].apply(lambda x: math.floor(x))\n",
    "brand_score_df"
   ]
  },
  {
   "cell_type": "code",
   "execution_count": 115,
   "metadata": {},
   "outputs": [],
   "source": [
    "ad_ids_per_score = brand_score_df.groupby('median')['arcom_indexes'].apply(lambda x: list(chain.from_iterable(x)))"
   ]
  },
  {
   "cell_type": "code",
   "execution_count": 146,
   "metadata": {},
   "outputs": [],
   "source": [
    "score_df = raw_arcom_df.loc[ad_ids_per_score[1], ['Script', 'clean_script']]\n",
    "score_df = score_df[[isinstance(x, str) for x in score_df['clean_script']]]\n",
    "score_df['clean_script'] = score_df['clean_script'].apply(lambda x: ast.literal_eval(x))\n",
    "documents = score_df['clean_script'].tolist()\n",
    "dictionary = corpora.Dictionary(documents)\n",
    "corpus = [dictionary.doc2bow(doc) for doc in documents]\n",
    "lda_model = gensim.models.LdaModel(corpus, num_topics=3, id2word=dictionary, passes=15)\n",
    "topics = lda_model.print_topics()"
   ]
  },
  {
   "cell_type": "code",
   "execution_count": null,
   "metadata": {},
   "outputs": [],
   "source": []
  }
 ],
 "metadata": {
  "kernelspec": {
   "display_name": "Python 3",
   "language": "python",
   "name": "python3"
  },
  "language_info": {
   "codemirror_mode": {
    "name": "ipython",
    "version": 3
   },
   "file_extension": ".py",
   "mimetype": "text/x-python",
   "name": "python",
   "nbconvert_exporter": "python",
   "pygments_lexer": "ipython3",
   "version": "3.8.18"
  }
 },
 "nbformat": 4,
 "nbformat_minor": 2
}
