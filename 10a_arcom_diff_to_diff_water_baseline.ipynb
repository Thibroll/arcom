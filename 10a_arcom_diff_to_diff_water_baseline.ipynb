{
 "cells": [
  {
   "cell_type": "code",
   "execution_count": 1,
   "metadata": {},
   "outputs": [],
   "source": [
    "import pandas as pd\n",
    "from sklearn.feature_extraction.text import CountVectorizer\n",
    "import statsmodels.api as sm\n",
    "import statsmodels.formula.api as smf\n",
    "import numpy as np\n",
    "from collections import Counter\n",
    "import re\n",
    "import plotly.express as px\n",
    "import datetime"
   ]
  },
  {
   "cell_type": "code",
   "execution_count": 2,
   "metadata": {},
   "outputs": [
    {
     "name": "stderr",
     "output_type": "stream",
     "text": [
      "/var/folders/cf/xcc222mj0yg3dzy7mljbx99w0000gn/T/ipykernel_84522/777748067.py:1: DtypeWarning: Columns (37,38) have mixed types. Specify dtype option on import or set low_memory=False.\n",
      "  arcom_df = pd.read_csv(\"/Users/thibaultrolland/Projects/arcom/data/ARCOM.csv\")\n"
     ]
    }
   ],
   "source": [
    "arcom_df = pd.read_csv(\"/Users/thibaultrolland/Projects/arcom/data/ARCOM.csv\")"
   ]
  },
  {
   "cell_type": "code",
   "execution_count": 3,
   "metadata": {},
   "outputs": [],
   "source": [
    "def clean_themes(themes):\n",
    "    if type(themes) == str:\n",
    "        themes = themes.split(',')\n",
    "        themes = [theme.strip() for theme in themes]\n",
    "        themes = [theme.lower() for theme in themes]\n",
    "        return themes\n",
    "    return []\n",
    "\n",
    "arcom_df['clean_theme'] = arcom_df['Thème'].apply(clean_themes)\n",
    "arcom_df['clean_date'] = [datetime.datetime.strptime(x, '%d/%m/%Y').date() for x in arcom_df['Date']]"
   ]
  },
  {
   "cell_type": "code",
   "execution_count": 27,
   "metadata": {},
   "outputs": [],
   "source": [
    "drinks_df = arcom_df[arcom_df['Secteur'] == 'BOISSONS']\n",
    "drinks_df = drinks_df.reset_index()"
   ]
  },
  {
   "cell_type": "markdown",
   "metadata": {},
   "source": [
    "# diff to diff"
   ]
  },
  {
   "cell_type": "code",
   "execution_count": 28,
   "metadata": {},
   "outputs": [
    {
     "data": {
      "text/plain": [
       "BOISSONS AUX FRUITS                184\n",
       "BOISSONS AU THE                    121\n",
       "EAUX GAZEUSES                       93\n",
       "EAUX MINERALES PLATES               91\n",
       "BOISSONS COLA                       79\n",
       "BOISSONS ENERGISANTES               76\n",
       "JUS DE FRUITS AMBIANTS              64\n",
       "BOISSONS COLA ALLEGES               54\n",
       "SODAS                               49\n",
       "EAUX DE SOURCE PLATES               45\n",
       "BIERES SANS ALCOOL                  40\n",
       "SOFT DRINKS GAMME                   40\n",
       "EAUX PLATES AROMATISEES             39\n",
       "TONIQUES                            38\n",
       "EAUX GAZEUSES AROMATISEES           31\n",
       "JUS DE FRUITS FRAIS                 30\n",
       "INTERNET SOFT DRINKS                20\n",
       "PRESTIGE SOFT DRINK                 20\n",
       "CONCENTRES SUCRES & SIROP           17\n",
       "CLEAR-LIMES                         13\n",
       "MOUSSEUX PETILLANTS SANS ALCOOL     11\n",
       "EAUX GAMME                           9\n",
       "BOISSONS AU CAFE                     6\n",
       "CONCENTRES SANS SUCRE                5\n",
       "APERITIFS SANS ALCOOL                5\n",
       "BOISSONS DIVERSES                    4\n",
       "INSTITUTIONNEL SOFT DRINK            3\n",
       "VINS DE TABLE COLLECTIVE             2\n",
       "BOISSONS AUX FRUITS ALLEGEES         1\n",
       "CONCENTRES SIROPS ALLEGES            1\n",
       "INTERNET BOISSONS ALCOOLISEES        1\n",
       "INTERNET JUS FRUITS                  1\n",
       "BOISSONS AU THE ALLEGEE              1\n",
       "Name: Variété, dtype: int64"
      ]
     },
     "execution_count": 28,
     "metadata": {},
     "output_type": "execute_result"
    }
   ],
   "source": [
    "drinks_df['Variété'].value_counts()"
   ]
  },
  {
   "cell_type": "code",
   "execution_count": 29,
   "metadata": {},
   "outputs": [],
   "source": [
    "def clean_themes(themes):\n",
    "    if type(themes) == str:\n",
    "        themes = themes.split(',')\n",
    "        themes = [theme.strip() for theme in themes]\n",
    "        themes = [theme.lower() for theme in themes]\n",
    "        return themes\n",
    "    return []\n",
    "\n",
    "drinks_df['clean_theme'] = drinks_df['Thème'].apply(clean_themes)\n",
    "drinks_df['clean_date'] = [datetime.datetime.strptime(x, '%d/%m/%Y').date() for x in drinks_df['Date']]\n"
   ]
  },
  {
   "cell_type": "code",
   "execution_count": 30,
   "metadata": {},
   "outputs": [
    {
     "data": {
      "text/plain": [
       "[('gout', 355),\n",
       " ('typographie', 298),\n",
       " ('effet visuel', 247),\n",
       " ('effet', 241),\n",
       " ('bonne humeur', 224),\n",
       " ('environnement autre', 224),\n",
       " ('humour autre', 222),\n",
       " ('developpement durable', 204),\n",
       " ('musique celebre', 203),\n",
       " ('naturel', 193),\n",
       " ('comportement autre', 189),\n",
       " ('fraicheur', 180),\n",
       " ('joie', 179),\n",
       " ('anglais', 178),\n",
       " ('nouveaute autre', 173),\n",
       " ('interpellation', 171),\n",
       " ('nature', 164),\n",
       " ('musique autre', 160),\n",
       " ('composant special', 149),\n",
       " ('convivialite', 147),\n",
       " ('choix', 140),\n",
       " ('signature etrangere', 135),\n",
       " ('festif', 133),\n",
       " ('conditionnement', 131),\n",
       " ('animal autre', 129),\n",
       " ('etonnement', 128),\n",
       " ('sans parole', 126),\n",
       " ('amitie', 125),\n",
       " ('bruitage autre', 124),\n",
       " ('jeune', 124),\n",
       " ('tag', 122),\n",
       " ('interrogation', 119),\n",
       " ('bien-etre', 111),\n",
       " ('changement autre', 109),\n",
       " ('enfant', 107),\n",
       " ('univers urbain', 105),\n",
       " ('recyclage', 103),\n",
       " ('pensee positive', 102),\n",
       " ('changement de signature', 102),\n",
       " ('objet personnifie', 99),\n",
       " ('saisonnalite', 99),\n",
       " ('ludique', 91),\n",
       " ('tutoiement', 91),\n",
       " ('couleur', 89),\n",
       " ('illustration visuelle', 88),\n",
       " ('sante', 86),\n",
       " ('danse', 86),\n",
       " ('univers loisirs', 81),\n",
       " ('personne celebre autre', 78),\n",
       " ('dessin anime', 78),\n",
       " ('esoterisme', 77),\n",
       " ('couple', 76),\n",
       " ('pratique', 75),\n",
       " ('univers professionnel', 75),\n",
       " ('femme', 73),\n",
       " (\"demonstration par l'absurde\", 71),\n",
       " ('peur', 70),\n",
       " ('montagne', 70),\n",
       " ('complicite', 67),\n",
       " ('seduction', 67),\n",
       " ('pour tous', 67),\n",
       " ('cinema', 66),\n",
       " ('reseaux sociaux autres', 65),\n",
       " ('quotidien', 65),\n",
       " ('univers maritime', 65),\n",
       " ('signature sonore', 64),\n",
       " ('lien media', 63),\n",
       " ('conseil', 63),\n",
       " ('sensations autre', 62),\n",
       " ('experience', 62),\n",
       " ('vitalite', 62),\n",
       " ('heros publicitaire', 62),\n",
       " ('famille', 61),\n",
       " ('jeu de mots', 61),\n",
       " ('media internet', 59),\n",
       " ('solidarite', 57),\n",
       " ('valorisation', 57),\n",
       " ('taille', 56),\n",
       " ('nocturne', 56),\n",
       " ('animal personnifie', 54),\n",
       " ('sondage', 53),\n",
       " ('signature exclamative', 52),\n",
       " ('etonnant', 52),\n",
       " ('personnage celebre', 51),\n",
       " ('senior', 51),\n",
       " ('plaisir', 51),\n",
       " ('film animation', 51),\n",
       " ('mascotte', 50),\n",
       " ('amour', 49),\n",
       " (\"clin d'oeil\", 48),\n",
       " ('bruitage animal', 48),\n",
       " ('football', 47),\n",
       " ('humour absurde', 47),\n",
       " ('force', 46),\n",
       " ('mot valise', 46),\n",
       " ('signature jeu', 45),\n",
       " ('neologisme', 45),\n",
       " ('chaleur', 45),\n",
       " ('allege', 45),\n",
       " ('bio', 44),\n",
       " ('univers entreprise', 44),\n",
       " ('langage', 43),\n",
       " ('illogisme', 42),\n",
       " ('rse', 42),\n",
       " ('reference a', 41),\n",
       " ('noel', 41),\n",
       " ('logo autre', 40),\n",
       " ('effort', 38),\n",
       " ('site', 38),\n",
       " ('fatigue', 37),\n",
       " ('partenariat autre', 37),\n",
       " ('objet detourne', 37),\n",
       " ('lien parental autre', 36),\n",
       " ('comparaison', 36),\n",
       " ('recette', 34),\n",
       " ('dechet', 34),\n",
       " ('convoitise', 33),\n",
       " ('signe de qualite autre', 33),\n",
       " ('liberte', 33),\n",
       " ('identite publicitaire autre', 32),\n",
       " ('gourmandise', 31),\n",
       " ('legerete', 31),\n",
       " ('exclamation', 31),\n",
       " ('metaphore', 30),\n",
       " ('marketing ethique', 30),\n",
       " ('alicament', 30),\n",
       " ('efficacite', 29),\n",
       " ('engagement', 29),\n",
       " ('ennui', 29),\n",
       " ('signature manuscrite', 28),\n",
       " ('lien maternel', 28),\n",
       " ('recompense', 28),\n",
       " ('actualite sociale', 28),\n",
       " ('eau', 27),\n",
       " ('petit-dejeuner', 27),\n",
       " ('lien fraternel', 27),\n",
       " ('unique', 27),\n",
       " ('identification', 26),\n",
       " ('ambiance sonore autre', 25),\n",
       " ('temporalite autre', 25),\n",
       " ('difference', 25),\n",
       " ('crise', 25),\n",
       " ('sport autre', 24),\n",
       " ('enumeration', 24),\n",
       " ('actualite sportive', 23),\n",
       " ('onomatopee', 23),\n",
       " ('retro', 23),\n",
       " ('langue autre', 22),\n",
       " ('logo animal', 22),\n",
       " ('maladresse', 22),\n",
       " ('intrusion', 22),\n",
       " ('univers transport autre', 22),\n",
       " ('demonstration', 22),\n",
       " ('texte detourne', 21),\n",
       " ('coupe du monde', 21),\n",
       " ('mode de vie amerique sud', 21),\n",
       " (\"strategie d'entreprise autre\", 21),\n",
       " ('jeunesse', 20),\n",
       " ('anniversaire', 20),\n",
       " ('rock', 20),\n",
       " ('smartphone', 20),\n",
       " ('aventure', 19),\n",
       " ('accent', 19),\n",
       " ('signature evenementielle', 19),\n",
       " ('realisateur celebre', 19),\n",
       " ('mode de vie americain', 19),\n",
       " ('sans conservateur', 19),\n",
       " ('ambiguite', 18),\n",
       " ('modification physique', 18),\n",
       " ('dessin', 18),\n",
       " ('passion', 18),\n",
       " ('branche', 18),\n",
       " ('histoire autre', 18),\n",
       " ('savoir-faire autre', 18),\n",
       " ('innovation', 18),\n",
       " ('univers meteorologique', 18),\n",
       " ('derision', 18),\n",
       " ('participatif', 18),\n",
       " ('suspense', 17),\n",
       " ('suppression de signature', 17),\n",
       " ('orthographe', 17),\n",
       " ('mode de vie italien', 17),\n",
       " ('univers rural', 17),\n",
       " ('succes', 17),\n",
       " ('fierte', 17),\n",
       " ('actualite saisonniere', 17),\n",
       " ('homme', 17),\n",
       " ('tradition', 17),\n",
       " ('testimoniale institutionnelle', 17),\n",
       " ('twitter', 16),\n",
       " ('transformation physique', 16),\n",
       " ('art autre', 16),\n",
       " ('evasion', 16),\n",
       " ('roller', 16),\n",
       " ('univers policier', 16),\n",
       " ('diversite', 15),\n",
       " ('cliche', 15),\n",
       " ('elocution autre', 15),\n",
       " ('purete', 15),\n",
       " ('halloween', 15),\n",
       " (\"strategie d'entreprise\", 15),\n",
       " ('univers guerre', 15),\n",
       " ('image de synthese', 15),\n",
       " ('colere', 14),\n",
       " ('minimalisme', 14),\n",
       " ('bebe', 14),\n",
       " ('population autre', 14),\n",
       " ('minceur', 14),\n",
       " ('congratulation', 14),\n",
       " ('basket-ball', 14),\n",
       " ('chronologie', 14),\n",
       " ('stress', 14),\n",
       " ('test autre', 14),\n",
       " ('signature interrogative', 14),\n",
       " ('confiance', 14),\n",
       " ('tendresse', 14),\n",
       " ('homosexuel', 14),\n",
       " ('evolution des moeurs', 14),\n",
       " ('univers culinaire', 14),\n",
       " ('durabilite', 14),\n",
       " ('media affichage', 13),\n",
       " ('saga', 13),\n",
       " ('exotisme', 13),\n",
       " ('logo anime', 13),\n",
       " ('lettre remplacee', 13),\n",
       " ('soutien', 13),\n",
       " ('action', 12),\n",
       " ('plus', 12),\n",
       " ('surf nautique', 12),\n",
       " ('solitude', 12),\n",
       " ('creation de signature', 12),\n",
       " ('testimoniale autre', 12),\n",
       " ('courage', 12),\n",
       " ('lien interactif', 12),\n",
       " ('niaiserie', 12),\n",
       " ('dialogue', 12),\n",
       " ('egerie', 12),\n",
       " ('discours decale autre', 12),\n",
       " ('douleur', 12),\n",
       " ('monologue', 12),\n",
       " ('discours educatif', 12),\n",
       " ('univers ferroviaire', 12),\n",
       " ('effet sonore', 12),\n",
       " ('ambiance sonore urbaine', 12),\n",
       " ('suite', 12),\n",
       " ('evenement personnel autre', 12),\n",
       " ('humour potache', 11),\n",
       " ('visuel detourne', 11),\n",
       " ('origine', 11),\n",
       " ('poesie', 11),\n",
       " ('mythe', 11),\n",
       " ('analogie', 11),\n",
       " ('facebook', 10),\n",
       " ('nostalgie', 10),\n",
       " ('simplicite', 10),\n",
       " ('serenite', 10),\n",
       " ('antiquite', 10),\n",
       " ('alliteration', 10),\n",
       " ('randonnee', 10),\n",
       " ('rapidite', 10),\n",
       " ('illustration sensorielle', 10),\n",
       " ('illegalite', 10),\n",
       " ('chuchotement', 9),\n",
       " ('fantastique', 9),\n",
       " ('you tube', 9),\n",
       " ('ambiance sonore sport', 9),\n",
       " ('symbole', 9),\n",
       " ('univers aeronautique', 9),\n",
       " ('nudite', 9),\n",
       " ('regression', 9),\n",
       " ('velo', 9),\n",
       " ('ouie', 9),\n",
       " ('fan', 9),\n",
       " ('proximite', 9),\n",
       " ('mode de vie francais autre', 9),\n",
       " ('noir et blanc', 9),\n",
       " ('pastiche', 9),\n",
       " ('signature courte', 8),\n",
       " ('rugby', 8),\n",
       " ('sans texte', 8),\n",
       " ('espace', 8),\n",
       " ('photographie', 8),\n",
       " ('univers autre', 8),\n",
       " ('lien paternel', 8),\n",
       " ('exploit', 8),\n",
       " ('mode de vie autre', 8),\n",
       " ('skateboard', 8),\n",
       " ('nouvelle formule', 8),\n",
       " ('mode de vie sud', 8),\n",
       " ('alpinisme', 8),\n",
       " ('univers enseignement', 8),\n",
       " ('gymnastique', 8),\n",
       " ('quinqua', 8),\n",
       " ('jeu video', 8),\n",
       " ('mal-etre', 8),\n",
       " ('forain', 7),\n",
       " ('ambiance autre', 7),\n",
       " ('mode de vie paris', 7),\n",
       " ('evenement autre', 7),\n",
       " ('handicap', 7),\n",
       " ('logo personnage', 7),\n",
       " ('signature longue', 7),\n",
       " ('deception', 7),\n",
       " ('tennis', 7),\n",
       " ('snacking', 7),\n",
       " ('recommande', 7),\n",
       " ('a suivre', 7),\n",
       " ('euro2016', 7),\n",
       " ('leader', 7),\n",
       " ('douceur', 7),\n",
       " ('danger', 7),\n",
       " ('signaletique', 7),\n",
       " ('farwest', 7),\n",
       " ('multi usages', 7),\n",
       " ('sport individuel autre', 7),\n",
       " ('quadra', 7),\n",
       " ('mondial2022', 7),\n",
       " ('journalistique', 6),\n",
       " ('sensualite', 6),\n",
       " ('sommeil', 6),\n",
       " ('historique', 6),\n",
       " ('bcbg', 6),\n",
       " ('peinture', 6),\n",
       " ('certifie', 6),\n",
       " ('satisfaction', 6),\n",
       " ('media presse', 6),\n",
       " ('label', 6),\n",
       " ('discours prix', 6),\n",
       " ('mondial2019 feminin', 6),\n",
       " ('actualite autre', 6),\n",
       " ('tolerance', 6),\n",
       " ('sensibilite', 6),\n",
       " ('ski nordique', 6),\n",
       " ('economie autre', 6),\n",
       " ('pensee negative', 6),\n",
       " ('tennis de table', 6),\n",
       " ('securite', 6),\n",
       " ('caricature', 6),\n",
       " ('beaute', 5),\n",
       " ('forme speciale', 5),\n",
       " ('evenement sportif', 5),\n",
       " ('serie', 5),\n",
       " ('bande dessinee', 5),\n",
       " ('desespoir', 5),\n",
       " ('confort', 5),\n",
       " ('anachronisme', 5),\n",
       " ('soif', 5),\n",
       " ('mention obligatoire ecologie', 5),\n",
       " ('theatre', 5),\n",
       " ('mondial2018', 5),\n",
       " ('media television', 5),\n",
       " ('discours decale alimentaire', 5),\n",
       " ('elocution', 5),\n",
       " ('phylactere', 5),\n",
       " ('yoga', 5),\n",
       " ('mauvaise humeur', 5),\n",
       " ('vue', 5),\n",
       " ('double signature', 4),\n",
       " ('changement de logo', 4),\n",
       " ('impatience', 4),\n",
       " ('streetwear', 4),\n",
       " ('expression', 4),\n",
       " ('service autre', 4),\n",
       " ('universelle', 4),\n",
       " ('logo jeu', 4),\n",
       " ('luxe', 4),\n",
       " ('ski nautique', 4),\n",
       " ('people', 4),\n",
       " (\"economie d'argent\", 4),\n",
       " ('habillage special', 4),\n",
       " ('double lecture', 4),\n",
       " ('sens', 4),\n",
       " ('vie sociale autre', 4),\n",
       " ('boxe', 4),\n",
       " ('monde', 4),\n",
       " ('logo marque ombrelle', 4),\n",
       " ('epreuve autre', 4),\n",
       " ('e-sport', 4),\n",
       " ('citation', 4),\n",
       " ('religion', 4),\n",
       " ('festival de cannes', 3),\n",
       " ('mode de vie africain', 3),\n",
       " ('mondial2014', 3),\n",
       " ('moto', 3),\n",
       " ('jogging', 3),\n",
       " ('suite autre', 3),\n",
       " ('pauvrete', 3),\n",
       " ('prehistoire', 3),\n",
       " ('bruitage mecanique', 3),\n",
       " ('obsession', 3),\n",
       " ('surf neige', 3),\n",
       " ('handball', 3),\n",
       " ('silence', 3),\n",
       " ('interlocuteur autre', 3),\n",
       " ('illustration sonore', 3),\n",
       " ('mot remplace', 3),\n",
       " ('italien', 3),\n",
       " ('promotion region', 3),\n",
       " ('odorat', 3),\n",
       " ('made in france', 3),\n",
       " ('journee speciale', 3),\n",
       " ('voeux', 3),\n",
       " ('teaser', 2),\n",
       " ('reserve a', 2),\n",
       " ('support', 2),\n",
       " ('sport equestre', 2),\n",
       " ('plongee', 2),\n",
       " ('femme objet', 2),\n",
       " ('operation speciale', 2),\n",
       " ('media autre', 2),\n",
       " ('avenir', 2),\n",
       " ('voix celebre', 2),\n",
       " ('mensonge', 2),\n",
       " ('echec', 2),\n",
       " ('natation', 2),\n",
       " ('economie de temps', 2),\n",
       " ('univers mode', 2),\n",
       " ('publicite comparative', 2),\n",
       " ('caritatif', 2),\n",
       " ('univers medical', 2),\n",
       " ('test consommateur', 2),\n",
       " ('pack', 2),\n",
       " ('media telephonie', 2),\n",
       " ('snapchat', 2),\n",
       " ('questions-reponses', 2),\n",
       " ('style de vie autre', 2),\n",
       " ('sur-mesure', 2),\n",
       " ('bruitage domestique', 2),\n",
       " ('realite augmentee', 2),\n",
       " ('tentation', 2),\n",
       " ('grande cause autre', 2),\n",
       " ('leger', 2),\n",
       " ('commerce equitable', 2),\n",
       " ('street art', 2),\n",
       " ('violence', 2),\n",
       " ('agressivite', 2),\n",
       " ('civisme', 2),\n",
       " ('populaire', 2),\n",
       " ('francais', 2),\n",
       " ('disco', 2),\n",
       " ('golf', 2),\n",
       " ('nutri-score', 2),\n",
       " ('espoir', 1),\n",
       " ('angoisse', 1),\n",
       " ('natation synchronisee', 1),\n",
       " ('vtt', 1),\n",
       " ('canoe kayak', 1),\n",
       " ('sport extreme', 1),\n",
       " ('homme objet', 1),\n",
       " ('sexuel autre', 1),\n",
       " ('exclusivite', 1),\n",
       " ('masochisme', 1),\n",
       " ('testimoniale celebrite', 1),\n",
       " ('poids', 1),\n",
       " ('interlocuteur', 1),\n",
       " ('univers politique', 1),\n",
       " ('identite publicitaire', 1),\n",
       " ('ski alpin', 1),\n",
       " ('particularite physique', 1),\n",
       " ('made in', 1),\n",
       " ('romantisme', 1),\n",
       " ('precocite', 1),\n",
       " ('cobranding', 1),\n",
       " ('j-n', 1),\n",
       " ('terre', 1),\n",
       " ('royaute', 1),\n",
       " ('nouveaute', 1),\n",
       " ('sans mention obligatoire', 1),\n",
       " ('tristesse', 1),\n",
       " ('mobilite', 1),\n",
       " ('rallye', 1),\n",
       " ('television', 1),\n",
       " ('paques', 1),\n",
       " ('volley-ball', 1),\n",
       " ('univers scientifique', 1),\n",
       " ('actualite divertissement', 1),\n",
       " ('humour noir', 1),\n",
       " ('youtubeur', 1),\n",
       " ('influenceur autre', 1),\n",
       " ('lien parental', 1),\n",
       " ('calendrier autre', 1),\n",
       " ('running', 1),\n",
       " ('design', 1),\n",
       " ('produit autre', 1),\n",
       " ('mention obligatoire alimentaire', 1),\n",
       " ('pensee autre', 1),\n",
       " ('actualite', 1),\n",
       " ('media radio', 1),\n",
       " ('application', 1),\n",
       " ('univers agricole', 1),\n",
       " ('naissance', 1),\n",
       " ('antinomie', 1),\n",
       " ('mode de vie auvergne', 1),\n",
       " ('proprete', 1),\n",
       " ('devalorisation', 1),\n",
       " ('desaccord', 1),\n",
       " ('grande cause sante autre', 1),\n",
       " ('egoisme', 1),\n",
       " ('futur', 1),\n",
       " ('europe', 1),\n",
       " ('made in autres', 1),\n",
       " ('euro2020', 1),\n",
       " ('sport automobile', 1),\n",
       " ('univers artisanal', 1),\n",
       " ('musique', 1),\n",
       " ('deltaplane', 1),\n",
       " ('exageration physique', 1),\n",
       " ('fidelite', 1),\n",
       " ('evolution', 1),\n",
       " ('tour de france', 1),\n",
       " ('qr code', 1),\n",
       " ('nutri-score b', 1)]"
      ]
     },
     "execution_count": 30,
     "metadata": {},
     "output_type": "execute_result"
    }
   ],
   "source": [
    "most_frequent_themes = Counter([word for sublist in drinks_df['clean_theme'] for word in sublist])\n",
    "most_frequent_themes.most_common()"
   ]
  },
  {
   "cell_type": "code",
   "execution_count": 31,
   "metadata": {},
   "outputs": [
    {
     "data": {
      "application/vnd.plotly.v1+json": {
       "config": {
        "plotlyServerURL": "https://plot.ly"
       },
       "data": [
        {
         "alignmentgroup": "True",
         "bingroup": "x",
         "hovertemplate": "Secteur=BOISSONS<br>clean_date=%{x}<br>count=%{y}<extra></extra>",
         "legendgroup": "BOISSONS",
         "marker": {
          "color": "#636efa",
          "pattern": {
           "shape": ""
          }
         },
         "name": "BOISSONS",
         "offsetgroup": "BOISSONS",
         "orientation": "v",
         "showlegend": true,
         "type": "histogram",
         "x": [
          "2014-04-19",
          "2014-04-20",
          "2014-04-20",
          "2014-04-20",
          "2014-06-02",
          "2014-06-23",
          "2014-01-13",
          "2014-01-15",
          "2014-08-25",
          "2014-09-29",
          "2014-09-30",
          "2014-10-07",
          "2014-12-16",
          "2014-12-16",
          "2014-12-22",
          "2014-12-26",
          "2014-12-26",
          "2014-02-24",
          "2014-02-24",
          "2014-02-24",
          "2015-04-05",
          "2015-04-13",
          "2015-04-17",
          "2015-05-04",
          "2015-05-18",
          "2015-05-18",
          "2015-05-18",
          "2015-05-19",
          "2015-05-21",
          "2015-06-08",
          "2015-06-11",
          "2015-06-15",
          "2015-06-15",
          "2015-06-18",
          "2015-06-18",
          "2015-06-19",
          "2015-06-22",
          "2015-06-23",
          "2015-06-29",
          "2015-07-06",
          "2015-07-07",
          "2015-07-20",
          "2015-07-20",
          "2015-07-20",
          "2015-07-20",
          "2015-08-09",
          "2015-08-09",
          "2015-08-10",
          "2015-08-16",
          "2015-08-16",
          "2015-08-26",
          "2015-08-27",
          "2015-08-30",
          "2015-08-31",
          "2015-08-31",
          "2015-08-31",
          "2015-09-09",
          "2015-09-09",
          "2015-10-26",
          "2015-12-06",
          "2015-12-13",
          "2015-03-01",
          "2015-03-01",
          "2015-03-01",
          "2015-03-01",
          "2016-03-08",
          "2016-04-03",
          "2016-04-11",
          "2016-05-03",
          "2016-05-04",
          "2016-05-09",
          "2016-05-09",
          "2016-01-17",
          "2016-05-24",
          "2016-05-24",
          "2016-07-25",
          "2016-10-16",
          "2016-02-02",
          "2016-02-11",
          "2016-02-24",
          "2016-03-06",
          "2016-03-06",
          "2017-04-09",
          "2017-04-12",
          "2017-04-17",
          "2017-04-17",
          "2017-04-18",
          "2017-04-18",
          "2017-04-19",
          "2017-05-01",
          "2017-05-15",
          "2017-05-15",
          "2017-05-19",
          "2017-05-22",
          "2017-05-29",
          "2017-05-29",
          "2017-06-17",
          "2017-06-30",
          "2017-06-30",
          "2017-06-30",
          "2017-07-03",
          "2017-01-25",
          "2017-10-09",
          "2017-02-27",
          "2017-02-27",
          "2018-03-12",
          "2018-03-26",
          "2018-05-02",
          "2018-05-04",
          "2018-05-14",
          "2018-05-14",
          "2018-05-15",
          "2018-05-21",
          "2018-05-21",
          "2018-05-21",
          "2018-05-21",
          "2018-05-28",
          "2018-06-12",
          "2018-07-18",
          "2018-07-19",
          "2018-07-23",
          "2018-08-21",
          "2018-09-17",
          "2018-09-19",
          "2018-10-14",
          "2018-12-22",
          "2018-02-19",
          "2018-02-26",
          "2019-03-04",
          "2019-04-01",
          "2019-04-01",
          "2019-04-10",
          "2019-04-15",
          "2019-04-15",
          "2019-04-24",
          "2019-04-29",
          "2019-05-06",
          "2019-05-06",
          "2019-05-06",
          "2019-05-06",
          "2019-05-06",
          "2019-05-08",
          "2019-05-08",
          "2019-01-13",
          "2019-06-02",
          "2019-06-08",
          "2019-06-12",
          "2019-06-12",
          "2019-06-12",
          "2019-06-23",
          "2019-06-24",
          "2019-06-30",
          "2019-06-30",
          "2019-07-01",
          "2019-07-01",
          "2019-07-15",
          "2019-09-22",
          "2019-10-25",
          "2019-11-04",
          "2019-12-02",
          "2019-12-11",
          "2019-02-13",
          "2019-02-24",
          "2019-02-24",
          "2019-03-03",
          "2019-03-03",
          "2019-02-25",
          "2020-03-15",
          "2020-04-06",
          "2020-04-06",
          "2020-04-07",
          "2020-05-01",
          "2020-05-06",
          "2020-05-06",
          "2020-05-06",
          "2020-06-01",
          "2020-06-02",
          "2020-06-03",
          "2020-06-08",
          "2020-06-08",
          "2020-06-08",
          "2020-06-08",
          "2020-06-08",
          "2020-06-08",
          "2020-06-28",
          "2020-06-28",
          "2020-06-28",
          "2020-06-28",
          "2020-06-29",
          "2020-06-30",
          "2020-06-30",
          "2020-06-30",
          "2020-07-06",
          "2020-07-06",
          "2020-07-06",
          "2020-07-06",
          "2020-07-07",
          "2020-07-13",
          "2020-07-13",
          "2020-07-14",
          "2020-07-15",
          "2020-07-20",
          "2020-07-20",
          "2020-08-10",
          "2020-08-15",
          "2020-09-21",
          "2020-09-21",
          "2020-09-21",
          "2020-01-26",
          "2020-10-19",
          "2020-11-18",
          "2021-03-16",
          "2021-03-29",
          "2021-04-05",
          "2021-04-06",
          "2021-04-06",
          "2021-04-14",
          "2021-04-15",
          "2021-04-15",
          "2021-04-16",
          "2021-04-20",
          "2021-05-02",
          "2021-05-17",
          "2021-05-17",
          "2021-05-18",
          "2021-05-18",
          "2021-05-30",
          "2021-06-07",
          "2021-06-14",
          "2021-06-14",
          "2021-06-14",
          "2021-06-15",
          "2021-06-17",
          "2021-06-27",
          "2021-07-01",
          "2021-07-02",
          "2021-06-29",
          "2021-06-29",
          "2021-07-05",
          "2021-07-05",
          "2021-07-05",
          "2021-07-05",
          "2021-07-12",
          "2021-07-22",
          "2021-08-02",
          "2021-08-08",
          "2021-08-08",
          "2021-08-08",
          "2021-08-08",
          "2021-08-16",
          "2021-08-22",
          "2021-01-25",
          "2021-11-01",
          "2021-11-29",
          "2021-12-18",
          "2021-12-20",
          "2022-03-08",
          "2022-03-28",
          "2022-03-28",
          "2022-03-28",
          "2022-04-04",
          "2022-04-04",
          "2022-04-04",
          "2022-04-04",
          "2022-04-04",
          "2022-04-04",
          "2022-04-04",
          "2022-04-04",
          "2022-04-11",
          "2022-04-11",
          "2022-04-11",
          "2022-04-11",
          "2022-04-11",
          "2022-04-11",
          "2022-04-12",
          "2022-04-12",
          "2022-04-14",
          "2022-04-18",
          "2022-04-21",
          "2022-04-22",
          "2022-04-25",
          "2022-05-02",
          "2022-05-02",
          "2022-05-02",
          "2022-05-02",
          "2022-05-03",
          "2022-05-16",
          "2022-05-16",
          "2022-05-16",
          "2022-05-16",
          "2022-05-16",
          "2022-05-16",
          "2022-05-16",
          "2022-05-16",
          "2022-05-16",
          "2022-05-16",
          "2022-05-17",
          "2022-05-18",
          "2022-05-23",
          "2022-05-23",
          "2022-05-23",
          "2022-05-23",
          "2022-05-29",
          "2022-06-05",
          "2022-06-05",
          "2022-06-05",
          "2022-06-05",
          "2022-06-05",
          "2022-06-05",
          "2022-05-30",
          "2022-05-30",
          "2022-05-30",
          "2022-05-30",
          "2022-06-06",
          "2022-06-06",
          "2022-06-06",
          "2022-06-06",
          "2022-06-16",
          "2022-06-20",
          "2022-06-20",
          "2022-06-20",
          "2022-06-20",
          "2022-07-01",
          "2022-06-27",
          "2022-06-30",
          "2022-06-30",
          "2022-06-30",
          "2022-07-06",
          "2022-07-12",
          "2022-07-18",
          "2022-07-25",
          "2022-10-02",
          "2022-10-02",
          "2022-10-02",
          "2022-10-02",
          "2022-10-02",
          "2022-10-02",
          "2022-10-04",
          "2022-10-04",
          "2022-10-05",
          "2022-10-27",
          "2022-11-07",
          "2022-11-13",
          "2022-11-13",
          "2022-11-13",
          "2022-02-06",
          "2022-02-06",
          "2022-12-19",
          "2022-12-26",
          "2022-02-16",
          "2022-02-16",
          "2022-02-17",
          "2022-02-17",
          "2022-02-20",
          "2022-03-06"
         ],
         "xaxis": "x",
         "yaxis": "y"
        }
       ],
       "layout": {
        "barmode": "relative",
        "legend": {
         "title": {
          "text": "Secteur"
         },
         "tracegroupgap": 0
        },
        "template": {
         "data": {
          "bar": [
           {
            "error_x": {
             "color": "#2a3f5f"
            },
            "error_y": {
             "color": "#2a3f5f"
            },
            "marker": {
             "line": {
              "color": "#E5ECF6",
              "width": 0.5
             },
             "pattern": {
              "fillmode": "overlay",
              "size": 10,
              "solidity": 0.2
             }
            },
            "type": "bar"
           }
          ],
          "barpolar": [
           {
            "marker": {
             "line": {
              "color": "#E5ECF6",
              "width": 0.5
             },
             "pattern": {
              "fillmode": "overlay",
              "size": 10,
              "solidity": 0.2
             }
            },
            "type": "barpolar"
           }
          ],
          "carpet": [
           {
            "aaxis": {
             "endlinecolor": "#2a3f5f",
             "gridcolor": "white",
             "linecolor": "white",
             "minorgridcolor": "white",
             "startlinecolor": "#2a3f5f"
            },
            "baxis": {
             "endlinecolor": "#2a3f5f",
             "gridcolor": "white",
             "linecolor": "white",
             "minorgridcolor": "white",
             "startlinecolor": "#2a3f5f"
            },
            "type": "carpet"
           }
          ],
          "choropleth": [
           {
            "colorbar": {
             "outlinewidth": 0,
             "ticks": ""
            },
            "type": "choropleth"
           }
          ],
          "contour": [
           {
            "colorbar": {
             "outlinewidth": 0,
             "ticks": ""
            },
            "colorscale": [
             [
              0,
              "#0d0887"
             ],
             [
              0.1111111111111111,
              "#46039f"
             ],
             [
              0.2222222222222222,
              "#7201a8"
             ],
             [
              0.3333333333333333,
              "#9c179e"
             ],
             [
              0.4444444444444444,
              "#bd3786"
             ],
             [
              0.5555555555555556,
              "#d8576b"
             ],
             [
              0.6666666666666666,
              "#ed7953"
             ],
             [
              0.7777777777777778,
              "#fb9f3a"
             ],
             [
              0.8888888888888888,
              "#fdca26"
             ],
             [
              1,
              "#f0f921"
             ]
            ],
            "type": "contour"
           }
          ],
          "contourcarpet": [
           {
            "colorbar": {
             "outlinewidth": 0,
             "ticks": ""
            },
            "type": "contourcarpet"
           }
          ],
          "heatmap": [
           {
            "colorbar": {
             "outlinewidth": 0,
             "ticks": ""
            },
            "colorscale": [
             [
              0,
              "#0d0887"
             ],
             [
              0.1111111111111111,
              "#46039f"
             ],
             [
              0.2222222222222222,
              "#7201a8"
             ],
             [
              0.3333333333333333,
              "#9c179e"
             ],
             [
              0.4444444444444444,
              "#bd3786"
             ],
             [
              0.5555555555555556,
              "#d8576b"
             ],
             [
              0.6666666666666666,
              "#ed7953"
             ],
             [
              0.7777777777777778,
              "#fb9f3a"
             ],
             [
              0.8888888888888888,
              "#fdca26"
             ],
             [
              1,
              "#f0f921"
             ]
            ],
            "type": "heatmap"
           }
          ],
          "heatmapgl": [
           {
            "colorbar": {
             "outlinewidth": 0,
             "ticks": ""
            },
            "colorscale": [
             [
              0,
              "#0d0887"
             ],
             [
              0.1111111111111111,
              "#46039f"
             ],
             [
              0.2222222222222222,
              "#7201a8"
             ],
             [
              0.3333333333333333,
              "#9c179e"
             ],
             [
              0.4444444444444444,
              "#bd3786"
             ],
             [
              0.5555555555555556,
              "#d8576b"
             ],
             [
              0.6666666666666666,
              "#ed7953"
             ],
             [
              0.7777777777777778,
              "#fb9f3a"
             ],
             [
              0.8888888888888888,
              "#fdca26"
             ],
             [
              1,
              "#f0f921"
             ]
            ],
            "type": "heatmapgl"
           }
          ],
          "histogram": [
           {
            "marker": {
             "pattern": {
              "fillmode": "overlay",
              "size": 10,
              "solidity": 0.2
             }
            },
            "type": "histogram"
           }
          ],
          "histogram2d": [
           {
            "colorbar": {
             "outlinewidth": 0,
             "ticks": ""
            },
            "colorscale": [
             [
              0,
              "#0d0887"
             ],
             [
              0.1111111111111111,
              "#46039f"
             ],
             [
              0.2222222222222222,
              "#7201a8"
             ],
             [
              0.3333333333333333,
              "#9c179e"
             ],
             [
              0.4444444444444444,
              "#bd3786"
             ],
             [
              0.5555555555555556,
              "#d8576b"
             ],
             [
              0.6666666666666666,
              "#ed7953"
             ],
             [
              0.7777777777777778,
              "#fb9f3a"
             ],
             [
              0.8888888888888888,
              "#fdca26"
             ],
             [
              1,
              "#f0f921"
             ]
            ],
            "type": "histogram2d"
           }
          ],
          "histogram2dcontour": [
           {
            "colorbar": {
             "outlinewidth": 0,
             "ticks": ""
            },
            "colorscale": [
             [
              0,
              "#0d0887"
             ],
             [
              0.1111111111111111,
              "#46039f"
             ],
             [
              0.2222222222222222,
              "#7201a8"
             ],
             [
              0.3333333333333333,
              "#9c179e"
             ],
             [
              0.4444444444444444,
              "#bd3786"
             ],
             [
              0.5555555555555556,
              "#d8576b"
             ],
             [
              0.6666666666666666,
              "#ed7953"
             ],
             [
              0.7777777777777778,
              "#fb9f3a"
             ],
             [
              0.8888888888888888,
              "#fdca26"
             ],
             [
              1,
              "#f0f921"
             ]
            ],
            "type": "histogram2dcontour"
           }
          ],
          "mesh3d": [
           {
            "colorbar": {
             "outlinewidth": 0,
             "ticks": ""
            },
            "type": "mesh3d"
           }
          ],
          "parcoords": [
           {
            "line": {
             "colorbar": {
              "outlinewidth": 0,
              "ticks": ""
             }
            },
            "type": "parcoords"
           }
          ],
          "pie": [
           {
            "automargin": true,
            "type": "pie"
           }
          ],
          "scatter": [
           {
            "fillpattern": {
             "fillmode": "overlay",
             "size": 10,
             "solidity": 0.2
            },
            "type": "scatter"
           }
          ],
          "scatter3d": [
           {
            "line": {
             "colorbar": {
              "outlinewidth": 0,
              "ticks": ""
             }
            },
            "marker": {
             "colorbar": {
              "outlinewidth": 0,
              "ticks": ""
             }
            },
            "type": "scatter3d"
           }
          ],
          "scattercarpet": [
           {
            "marker": {
             "colorbar": {
              "outlinewidth": 0,
              "ticks": ""
             }
            },
            "type": "scattercarpet"
           }
          ],
          "scattergeo": [
           {
            "marker": {
             "colorbar": {
              "outlinewidth": 0,
              "ticks": ""
             }
            },
            "type": "scattergeo"
           }
          ],
          "scattergl": [
           {
            "marker": {
             "colorbar": {
              "outlinewidth": 0,
              "ticks": ""
             }
            },
            "type": "scattergl"
           }
          ],
          "scattermapbox": [
           {
            "marker": {
             "colorbar": {
              "outlinewidth": 0,
              "ticks": ""
             }
            },
            "type": "scattermapbox"
           }
          ],
          "scatterpolar": [
           {
            "marker": {
             "colorbar": {
              "outlinewidth": 0,
              "ticks": ""
             }
            },
            "type": "scatterpolar"
           }
          ],
          "scatterpolargl": [
           {
            "marker": {
             "colorbar": {
              "outlinewidth": 0,
              "ticks": ""
             }
            },
            "type": "scatterpolargl"
           }
          ],
          "scatterternary": [
           {
            "marker": {
             "colorbar": {
              "outlinewidth": 0,
              "ticks": ""
             }
            },
            "type": "scatterternary"
           }
          ],
          "surface": [
           {
            "colorbar": {
             "outlinewidth": 0,
             "ticks": ""
            },
            "colorscale": [
             [
              0,
              "#0d0887"
             ],
             [
              0.1111111111111111,
              "#46039f"
             ],
             [
              0.2222222222222222,
              "#7201a8"
             ],
             [
              0.3333333333333333,
              "#9c179e"
             ],
             [
              0.4444444444444444,
              "#bd3786"
             ],
             [
              0.5555555555555556,
              "#d8576b"
             ],
             [
              0.6666666666666666,
              "#ed7953"
             ],
             [
              0.7777777777777778,
              "#fb9f3a"
             ],
             [
              0.8888888888888888,
              "#fdca26"
             ],
             [
              1,
              "#f0f921"
             ]
            ],
            "type": "surface"
           }
          ],
          "table": [
           {
            "cells": {
             "fill": {
              "color": "#EBF0F8"
             },
             "line": {
              "color": "white"
             }
            },
            "header": {
             "fill": {
              "color": "#C8D4E3"
             },
             "line": {
              "color": "white"
             }
            },
            "type": "table"
           }
          ]
         },
         "layout": {
          "annotationdefaults": {
           "arrowcolor": "#2a3f5f",
           "arrowhead": 0,
           "arrowwidth": 1
          },
          "autotypenumbers": "strict",
          "coloraxis": {
           "colorbar": {
            "outlinewidth": 0,
            "ticks": ""
           }
          },
          "colorscale": {
           "diverging": [
            [
             0,
             "#8e0152"
            ],
            [
             0.1,
             "#c51b7d"
            ],
            [
             0.2,
             "#de77ae"
            ],
            [
             0.3,
             "#f1b6da"
            ],
            [
             0.4,
             "#fde0ef"
            ],
            [
             0.5,
             "#f7f7f7"
            ],
            [
             0.6,
             "#e6f5d0"
            ],
            [
             0.7,
             "#b8e186"
            ],
            [
             0.8,
             "#7fbc41"
            ],
            [
             0.9,
             "#4d9221"
            ],
            [
             1,
             "#276419"
            ]
           ],
           "sequential": [
            [
             0,
             "#0d0887"
            ],
            [
             0.1111111111111111,
             "#46039f"
            ],
            [
             0.2222222222222222,
             "#7201a8"
            ],
            [
             0.3333333333333333,
             "#9c179e"
            ],
            [
             0.4444444444444444,
             "#bd3786"
            ],
            [
             0.5555555555555556,
             "#d8576b"
            ],
            [
             0.6666666666666666,
             "#ed7953"
            ],
            [
             0.7777777777777778,
             "#fb9f3a"
            ],
            [
             0.8888888888888888,
             "#fdca26"
            ],
            [
             1,
             "#f0f921"
            ]
           ],
           "sequentialminus": [
            [
             0,
             "#0d0887"
            ],
            [
             0.1111111111111111,
             "#46039f"
            ],
            [
             0.2222222222222222,
             "#7201a8"
            ],
            [
             0.3333333333333333,
             "#9c179e"
            ],
            [
             0.4444444444444444,
             "#bd3786"
            ],
            [
             0.5555555555555556,
             "#d8576b"
            ],
            [
             0.6666666666666666,
             "#ed7953"
            ],
            [
             0.7777777777777778,
             "#fb9f3a"
            ],
            [
             0.8888888888888888,
             "#fdca26"
            ],
            [
             1,
             "#f0f921"
            ]
           ]
          },
          "colorway": [
           "#636efa",
           "#EF553B",
           "#00cc96",
           "#ab63fa",
           "#FFA15A",
           "#19d3f3",
           "#FF6692",
           "#B6E880",
           "#FF97FF",
           "#FECB52"
          ],
          "font": {
           "color": "#2a3f5f"
          },
          "geo": {
           "bgcolor": "white",
           "lakecolor": "white",
           "landcolor": "#E5ECF6",
           "showlakes": true,
           "showland": true,
           "subunitcolor": "white"
          },
          "hoverlabel": {
           "align": "left"
          },
          "hovermode": "closest",
          "mapbox": {
           "style": "light"
          },
          "paper_bgcolor": "white",
          "plot_bgcolor": "#E5ECF6",
          "polar": {
           "angularaxis": {
            "gridcolor": "white",
            "linecolor": "white",
            "ticks": ""
           },
           "bgcolor": "#E5ECF6",
           "radialaxis": {
            "gridcolor": "white",
            "linecolor": "white",
            "ticks": ""
           }
          },
          "scene": {
           "xaxis": {
            "backgroundcolor": "#E5ECF6",
            "gridcolor": "white",
            "gridwidth": 2,
            "linecolor": "white",
            "showbackground": true,
            "ticks": "",
            "zerolinecolor": "white"
           },
           "yaxis": {
            "backgroundcolor": "#E5ECF6",
            "gridcolor": "white",
            "gridwidth": 2,
            "linecolor": "white",
            "showbackground": true,
            "ticks": "",
            "zerolinecolor": "white"
           },
           "zaxis": {
            "backgroundcolor": "#E5ECF6",
            "gridcolor": "white",
            "gridwidth": 2,
            "linecolor": "white",
            "showbackground": true,
            "ticks": "",
            "zerolinecolor": "white"
           }
          },
          "shapedefaults": {
           "line": {
            "color": "#2a3f5f"
           }
          },
          "ternary": {
           "aaxis": {
            "gridcolor": "white",
            "linecolor": "white",
            "ticks": ""
           },
           "baxis": {
            "gridcolor": "white",
            "linecolor": "white",
            "ticks": ""
           },
           "bgcolor": "#E5ECF6",
           "caxis": {
            "gridcolor": "white",
            "linecolor": "white",
            "ticks": ""
           }
          },
          "title": {
           "x": 0.05
          },
          "xaxis": {
           "automargin": true,
           "gridcolor": "white",
           "linecolor": "white",
           "ticks": "",
           "title": {
            "standoff": 15
           },
           "zerolinecolor": "white",
           "zerolinewidth": 2
          },
          "yaxis": {
           "automargin": true,
           "gridcolor": "white",
           "linecolor": "white",
           "ticks": "",
           "title": {
            "standoff": 15
           },
           "zerolinecolor": "white",
           "zerolinewidth": 2
          }
         }
        },
        "title": {
         "text": "Ads with gout in themes"
        },
        "xaxis": {
         "anchor": "y",
         "domain": [
          0,
          1
         ],
         "title": {
          "text": "clean_date"
         }
        },
        "yaxis": {
         "anchor": "x",
         "domain": [
          0,
          1
         ],
         "title": {
          "text": "count"
         }
        }
       }
      }
     },
     "metadata": {},
     "output_type": "display_data"
    },
    {
     "data": {
      "application/vnd.plotly.v1+json": {
       "config": {
        "plotlyServerURL": "https://plot.ly"
       },
       "data": [
        {
         "alignmentgroup": "True",
         "bingroup": "x",
         "hovertemplate": "Secteur=BOISSONS<br>clean_date=%{x}<br>count=%{y}<extra></extra>",
         "legendgroup": "BOISSONS",
         "marker": {
          "color": "#636efa",
          "pattern": {
           "shape": ""
          }
         },
         "name": "BOISSONS",
         "offsetgroup": "BOISSONS",
         "orientation": "v",
         "showlegend": true,
         "type": "histogram",
         "x": [
          "2014-04-09",
          "2014-04-14",
          "2014-04-24",
          "2014-05-25",
          "2014-05-27",
          "2014-06-18",
          "2014-06-22",
          "2014-07-03",
          "2014-07-08",
          "2014-07-13",
          "2014-07-15",
          "2014-07-15",
          "2014-07-15",
          "2014-07-16",
          "2014-07-20",
          "2014-08-25",
          "2014-08-27",
          "2014-09-28",
          "2014-10-01",
          "2014-09-30",
          "2014-09-30",
          "2014-01-29",
          "2015-03-15",
          "2015-03-18",
          "2015-03-23",
          "2015-04-05",
          "2015-04-06",
          "2015-04-15",
          "2015-06-08",
          "2015-06-10",
          "2015-07-13",
          "2015-07-13",
          "2015-12-03",
          "2015-01-28",
          "2016-03-28",
          "2016-03-28",
          "2016-04-18",
          "2016-04-20",
          "2016-04-24",
          "2016-04-25",
          "2016-06-10",
          "2016-06-29",
          "2016-01-20",
          "2016-01-20",
          "2016-01-21",
          "2016-07-25",
          "2016-07-25",
          "2016-07-25",
          "2016-11-09",
          "2016-12-10",
          "2016-02-08",
          "2016-02-10",
          "2016-02-22",
          "2016-03-06",
          "2016-03-06",
          "2017-01-02",
          "2017-04-17",
          "2017-04-18",
          "2017-04-18",
          "2017-04-19",
          "2017-05-15",
          "2017-06-02",
          "2017-06-12",
          "2017-07-05",
          "2017-07-24",
          "2017-07-25",
          "2017-08-03",
          "2017-08-06",
          "2017-08-06",
          "2017-12-18",
          "2017-02-23",
          "2018-03-12",
          "2018-03-12",
          "2018-03-21",
          "2018-03-25",
          "2018-03-26",
          "2018-01-14",
          "2018-06-12",
          "2018-07-14",
          "2018-07-19",
          "2018-08-07",
          "2018-08-09",
          "2018-11-26",
          "2018-12-10",
          "2018-12-10",
          "2018-12-22",
          "2018-02-05",
          "2018-02-19",
          "2018-02-26",
          "2019-03-25",
          "2019-03-25",
          "2019-03-26",
          "2019-06-02",
          "2019-06-05",
          "2019-06-13",
          "2019-06-25",
          "2019-07-01",
          "2019-08-12",
          "2019-08-13",
          "2019-09-01",
          "2019-08-31",
          "2019-12-11",
          "2019-02-24",
          "2019-02-25",
          "2019-02-26",
          "2020-06-08",
          "2020-06-08",
          "2020-06-08",
          "2020-06-08",
          "2020-06-08",
          "2020-06-08",
          "2020-07-29",
          "2020-08-10",
          "2020-11-18",
          "2020-12-22",
          "2021-03-29",
          "2021-03-29",
          "2021-04-11",
          "2021-04-11",
          "2021-05-02",
          "2021-05-08",
          "2021-05-17",
          "2021-05-18",
          "2021-05-18",
          "2021-05-30",
          "2021-06-07",
          "2021-06-14",
          "2021-06-14",
          "2021-06-14",
          "2021-06-15",
          "2021-06-17",
          "2021-06-28",
          "2021-06-29",
          "2021-07-05",
          "2021-07-12",
          "2021-07-12",
          "2021-07-12",
          "2021-07-12",
          "2021-07-12",
          "2021-07-19",
          "2021-07-19",
          "2021-07-19",
          "2021-01-17",
          "2021-08-01",
          "2021-08-02",
          "2021-08-16",
          "2021-08-18",
          "2021-09-26",
          "2021-10-09",
          "2021-11-29",
          "2021-12-18",
          "2021-12-18",
          "2021-12-20",
          "2022-03-27",
          "2022-03-27",
          "2022-03-27",
          "2022-03-27",
          "2022-03-28",
          "2022-03-28",
          "2022-03-28",
          "2022-04-08",
          "2022-04-09",
          "2022-04-09",
          "2022-04-09",
          "2022-04-11",
          "2022-04-11",
          "2022-04-11",
          "2022-04-11",
          "2022-04-12",
          "2022-04-12",
          "2022-04-12",
          "2022-04-13",
          "2022-04-14",
          "2022-04-17",
          "2022-04-17",
          "2022-04-17",
          "2022-04-18",
          "2022-05-03",
          "2022-05-04",
          "2022-05-04",
          "2022-05-15",
          "2022-01-16",
          "2022-01-16",
          "2022-01-16",
          "2022-01-16",
          "2022-05-16",
          "2022-05-16",
          "2022-05-16",
          "2022-05-17",
          "2022-05-23",
          "2022-05-23",
          "2022-05-23",
          "2022-05-23",
          "2022-05-30",
          "2022-05-30",
          "2022-05-30",
          "2022-05-30",
          "2022-06-06",
          "2022-06-06",
          "2022-06-06",
          "2022-06-06",
          "2022-06-27",
          "2022-07-06",
          "2022-07-11",
          "2022-07-11",
          "2022-07-18",
          "2022-10-02",
          "2022-01-24",
          "2022-01-24",
          "2022-01-24",
          "2022-01-24",
          "2022-01-24",
          "2022-01-24",
          "2022-01-25",
          "2022-01-25",
          "2022-11-07",
          "2022-12-19",
          "2022-02-13",
          "2022-02-21",
          "2022-02-21",
          "2022-02-21",
          "2022-02-21",
          "2022-03-06",
          "2022-03-06"
         ],
         "xaxis": "x",
         "yaxis": "y"
        }
       ],
       "layout": {
        "barmode": "relative",
        "legend": {
         "title": {
          "text": "Secteur"
         },
         "tracegroupgap": 0
        },
        "template": {
         "data": {
          "bar": [
           {
            "error_x": {
             "color": "#2a3f5f"
            },
            "error_y": {
             "color": "#2a3f5f"
            },
            "marker": {
             "line": {
              "color": "#E5ECF6",
              "width": 0.5
             },
             "pattern": {
              "fillmode": "overlay",
              "size": 10,
              "solidity": 0.2
             }
            },
            "type": "bar"
           }
          ],
          "barpolar": [
           {
            "marker": {
             "line": {
              "color": "#E5ECF6",
              "width": 0.5
             },
             "pattern": {
              "fillmode": "overlay",
              "size": 10,
              "solidity": 0.2
             }
            },
            "type": "barpolar"
           }
          ],
          "carpet": [
           {
            "aaxis": {
             "endlinecolor": "#2a3f5f",
             "gridcolor": "white",
             "linecolor": "white",
             "minorgridcolor": "white",
             "startlinecolor": "#2a3f5f"
            },
            "baxis": {
             "endlinecolor": "#2a3f5f",
             "gridcolor": "white",
             "linecolor": "white",
             "minorgridcolor": "white",
             "startlinecolor": "#2a3f5f"
            },
            "type": "carpet"
           }
          ],
          "choropleth": [
           {
            "colorbar": {
             "outlinewidth": 0,
             "ticks": ""
            },
            "type": "choropleth"
           }
          ],
          "contour": [
           {
            "colorbar": {
             "outlinewidth": 0,
             "ticks": ""
            },
            "colorscale": [
             [
              0,
              "#0d0887"
             ],
             [
              0.1111111111111111,
              "#46039f"
             ],
             [
              0.2222222222222222,
              "#7201a8"
             ],
             [
              0.3333333333333333,
              "#9c179e"
             ],
             [
              0.4444444444444444,
              "#bd3786"
             ],
             [
              0.5555555555555556,
              "#d8576b"
             ],
             [
              0.6666666666666666,
              "#ed7953"
             ],
             [
              0.7777777777777778,
              "#fb9f3a"
             ],
             [
              0.8888888888888888,
              "#fdca26"
             ],
             [
              1,
              "#f0f921"
             ]
            ],
            "type": "contour"
           }
          ],
          "contourcarpet": [
           {
            "colorbar": {
             "outlinewidth": 0,
             "ticks": ""
            },
            "type": "contourcarpet"
           }
          ],
          "heatmap": [
           {
            "colorbar": {
             "outlinewidth": 0,
             "ticks": ""
            },
            "colorscale": [
             [
              0,
              "#0d0887"
             ],
             [
              0.1111111111111111,
              "#46039f"
             ],
             [
              0.2222222222222222,
              "#7201a8"
             ],
             [
              0.3333333333333333,
              "#9c179e"
             ],
             [
              0.4444444444444444,
              "#bd3786"
             ],
             [
              0.5555555555555556,
              "#d8576b"
             ],
             [
              0.6666666666666666,
              "#ed7953"
             ],
             [
              0.7777777777777778,
              "#fb9f3a"
             ],
             [
              0.8888888888888888,
              "#fdca26"
             ],
             [
              1,
              "#f0f921"
             ]
            ],
            "type": "heatmap"
           }
          ],
          "heatmapgl": [
           {
            "colorbar": {
             "outlinewidth": 0,
             "ticks": ""
            },
            "colorscale": [
             [
              0,
              "#0d0887"
             ],
             [
              0.1111111111111111,
              "#46039f"
             ],
             [
              0.2222222222222222,
              "#7201a8"
             ],
             [
              0.3333333333333333,
              "#9c179e"
             ],
             [
              0.4444444444444444,
              "#bd3786"
             ],
             [
              0.5555555555555556,
              "#d8576b"
             ],
             [
              0.6666666666666666,
              "#ed7953"
             ],
             [
              0.7777777777777778,
              "#fb9f3a"
             ],
             [
              0.8888888888888888,
              "#fdca26"
             ],
             [
              1,
              "#f0f921"
             ]
            ],
            "type": "heatmapgl"
           }
          ],
          "histogram": [
           {
            "marker": {
             "pattern": {
              "fillmode": "overlay",
              "size": 10,
              "solidity": 0.2
             }
            },
            "type": "histogram"
           }
          ],
          "histogram2d": [
           {
            "colorbar": {
             "outlinewidth": 0,
             "ticks": ""
            },
            "colorscale": [
             [
              0,
              "#0d0887"
             ],
             [
              0.1111111111111111,
              "#46039f"
             ],
             [
              0.2222222222222222,
              "#7201a8"
             ],
             [
              0.3333333333333333,
              "#9c179e"
             ],
             [
              0.4444444444444444,
              "#bd3786"
             ],
             [
              0.5555555555555556,
              "#d8576b"
             ],
             [
              0.6666666666666666,
              "#ed7953"
             ],
             [
              0.7777777777777778,
              "#fb9f3a"
             ],
             [
              0.8888888888888888,
              "#fdca26"
             ],
             [
              1,
              "#f0f921"
             ]
            ],
            "type": "histogram2d"
           }
          ],
          "histogram2dcontour": [
           {
            "colorbar": {
             "outlinewidth": 0,
             "ticks": ""
            },
            "colorscale": [
             [
              0,
              "#0d0887"
             ],
             [
              0.1111111111111111,
              "#46039f"
             ],
             [
              0.2222222222222222,
              "#7201a8"
             ],
             [
              0.3333333333333333,
              "#9c179e"
             ],
             [
              0.4444444444444444,
              "#bd3786"
             ],
             [
              0.5555555555555556,
              "#d8576b"
             ],
             [
              0.6666666666666666,
              "#ed7953"
             ],
             [
              0.7777777777777778,
              "#fb9f3a"
             ],
             [
              0.8888888888888888,
              "#fdca26"
             ],
             [
              1,
              "#f0f921"
             ]
            ],
            "type": "histogram2dcontour"
           }
          ],
          "mesh3d": [
           {
            "colorbar": {
             "outlinewidth": 0,
             "ticks": ""
            },
            "type": "mesh3d"
           }
          ],
          "parcoords": [
           {
            "line": {
             "colorbar": {
              "outlinewidth": 0,
              "ticks": ""
             }
            },
            "type": "parcoords"
           }
          ],
          "pie": [
           {
            "automargin": true,
            "type": "pie"
           }
          ],
          "scatter": [
           {
            "fillpattern": {
             "fillmode": "overlay",
             "size": 10,
             "solidity": 0.2
            },
            "type": "scatter"
           }
          ],
          "scatter3d": [
           {
            "line": {
             "colorbar": {
              "outlinewidth": 0,
              "ticks": ""
             }
            },
            "marker": {
             "colorbar": {
              "outlinewidth": 0,
              "ticks": ""
             }
            },
            "type": "scatter3d"
           }
          ],
          "scattercarpet": [
           {
            "marker": {
             "colorbar": {
              "outlinewidth": 0,
              "ticks": ""
             }
            },
            "type": "scattercarpet"
           }
          ],
          "scattergeo": [
           {
            "marker": {
             "colorbar": {
              "outlinewidth": 0,
              "ticks": ""
             }
            },
            "type": "scattergeo"
           }
          ],
          "scattergl": [
           {
            "marker": {
             "colorbar": {
              "outlinewidth": 0,
              "ticks": ""
             }
            },
            "type": "scattergl"
           }
          ],
          "scattermapbox": [
           {
            "marker": {
             "colorbar": {
              "outlinewidth": 0,
              "ticks": ""
             }
            },
            "type": "scattermapbox"
           }
          ],
          "scatterpolar": [
           {
            "marker": {
             "colorbar": {
              "outlinewidth": 0,
              "ticks": ""
             }
            },
            "type": "scatterpolar"
           }
          ],
          "scatterpolargl": [
           {
            "marker": {
             "colorbar": {
              "outlinewidth": 0,
              "ticks": ""
             }
            },
            "type": "scatterpolargl"
           }
          ],
          "scatterternary": [
           {
            "marker": {
             "colorbar": {
              "outlinewidth": 0,
              "ticks": ""
             }
            },
            "type": "scatterternary"
           }
          ],
          "surface": [
           {
            "colorbar": {
             "outlinewidth": 0,
             "ticks": ""
            },
            "colorscale": [
             [
              0,
              "#0d0887"
             ],
             [
              0.1111111111111111,
              "#46039f"
             ],
             [
              0.2222222222222222,
              "#7201a8"
             ],
             [
              0.3333333333333333,
              "#9c179e"
             ],
             [
              0.4444444444444444,
              "#bd3786"
             ],
             [
              0.5555555555555556,
              "#d8576b"
             ],
             [
              0.6666666666666666,
              "#ed7953"
             ],
             [
              0.7777777777777778,
              "#fb9f3a"
             ],
             [
              0.8888888888888888,
              "#fdca26"
             ],
             [
              1,
              "#f0f921"
             ]
            ],
            "type": "surface"
           }
          ],
          "table": [
           {
            "cells": {
             "fill": {
              "color": "#EBF0F8"
             },
             "line": {
              "color": "white"
             }
            },
            "header": {
             "fill": {
              "color": "#C8D4E3"
             },
             "line": {
              "color": "white"
             }
            },
            "type": "table"
           }
          ]
         },
         "layout": {
          "annotationdefaults": {
           "arrowcolor": "#2a3f5f",
           "arrowhead": 0,
           "arrowwidth": 1
          },
          "autotypenumbers": "strict",
          "coloraxis": {
           "colorbar": {
            "outlinewidth": 0,
            "ticks": ""
           }
          },
          "colorscale": {
           "diverging": [
            [
             0,
             "#8e0152"
            ],
            [
             0.1,
             "#c51b7d"
            ],
            [
             0.2,
             "#de77ae"
            ],
            [
             0.3,
             "#f1b6da"
            ],
            [
             0.4,
             "#fde0ef"
            ],
            [
             0.5,
             "#f7f7f7"
            ],
            [
             0.6,
             "#e6f5d0"
            ],
            [
             0.7,
             "#b8e186"
            ],
            [
             0.8,
             "#7fbc41"
            ],
            [
             0.9,
             "#4d9221"
            ],
            [
             1,
             "#276419"
            ]
           ],
           "sequential": [
            [
             0,
             "#0d0887"
            ],
            [
             0.1111111111111111,
             "#46039f"
            ],
            [
             0.2222222222222222,
             "#7201a8"
            ],
            [
             0.3333333333333333,
             "#9c179e"
            ],
            [
             0.4444444444444444,
             "#bd3786"
            ],
            [
             0.5555555555555556,
             "#d8576b"
            ],
            [
             0.6666666666666666,
             "#ed7953"
            ],
            [
             0.7777777777777778,
             "#fb9f3a"
            ],
            [
             0.8888888888888888,
             "#fdca26"
            ],
            [
             1,
             "#f0f921"
            ]
           ],
           "sequentialminus": [
            [
             0,
             "#0d0887"
            ],
            [
             0.1111111111111111,
             "#46039f"
            ],
            [
             0.2222222222222222,
             "#7201a8"
            ],
            [
             0.3333333333333333,
             "#9c179e"
            ],
            [
             0.4444444444444444,
             "#bd3786"
            ],
            [
             0.5555555555555556,
             "#d8576b"
            ],
            [
             0.6666666666666666,
             "#ed7953"
            ],
            [
             0.7777777777777778,
             "#fb9f3a"
            ],
            [
             0.8888888888888888,
             "#fdca26"
            ],
            [
             1,
             "#f0f921"
            ]
           ]
          },
          "colorway": [
           "#636efa",
           "#EF553B",
           "#00cc96",
           "#ab63fa",
           "#FFA15A",
           "#19d3f3",
           "#FF6692",
           "#B6E880",
           "#FF97FF",
           "#FECB52"
          ],
          "font": {
           "color": "#2a3f5f"
          },
          "geo": {
           "bgcolor": "white",
           "lakecolor": "white",
           "landcolor": "#E5ECF6",
           "showlakes": true,
           "showland": true,
           "subunitcolor": "white"
          },
          "hoverlabel": {
           "align": "left"
          },
          "hovermode": "closest",
          "mapbox": {
           "style": "light"
          },
          "paper_bgcolor": "white",
          "plot_bgcolor": "#E5ECF6",
          "polar": {
           "angularaxis": {
            "gridcolor": "white",
            "linecolor": "white",
            "ticks": ""
           },
           "bgcolor": "#E5ECF6",
           "radialaxis": {
            "gridcolor": "white",
            "linecolor": "white",
            "ticks": ""
           }
          },
          "scene": {
           "xaxis": {
            "backgroundcolor": "#E5ECF6",
            "gridcolor": "white",
            "gridwidth": 2,
            "linecolor": "white",
            "showbackground": true,
            "ticks": "",
            "zerolinecolor": "white"
           },
           "yaxis": {
            "backgroundcolor": "#E5ECF6",
            "gridcolor": "white",
            "gridwidth": 2,
            "linecolor": "white",
            "showbackground": true,
            "ticks": "",
            "zerolinecolor": "white"
           },
           "zaxis": {
            "backgroundcolor": "#E5ECF6",
            "gridcolor": "white",
            "gridwidth": 2,
            "linecolor": "white",
            "showbackground": true,
            "ticks": "",
            "zerolinecolor": "white"
           }
          },
          "shapedefaults": {
           "line": {
            "color": "#2a3f5f"
           }
          },
          "ternary": {
           "aaxis": {
            "gridcolor": "white",
            "linecolor": "white",
            "ticks": ""
           },
           "baxis": {
            "gridcolor": "white",
            "linecolor": "white",
            "ticks": ""
           },
           "bgcolor": "#E5ECF6",
           "caxis": {
            "gridcolor": "white",
            "linecolor": "white",
            "ticks": ""
           }
          },
          "title": {
           "x": 0.05
          },
          "xaxis": {
           "automargin": true,
           "gridcolor": "white",
           "linecolor": "white",
           "ticks": "",
           "title": {
            "standoff": 15
           },
           "zerolinecolor": "white",
           "zerolinewidth": 2
          },
          "yaxis": {
           "automargin": true,
           "gridcolor": "white",
           "linecolor": "white",
           "ticks": "",
           "title": {
            "standoff": 15
           },
           "zerolinecolor": "white",
           "zerolinewidth": 2
          }
         }
        },
        "title": {
         "text": "Ads with bonne humeur in themes"
        },
        "xaxis": {
         "anchor": "y",
         "domain": [
          0,
          1
         ],
         "title": {
          "text": "clean_date"
         }
        },
        "yaxis": {
         "anchor": "x",
         "domain": [
          0,
          1
         ],
         "title": {
          "text": "count"
         }
        }
       }
      }
     },
     "metadata": {},
     "output_type": "display_data"
    },
    {
     "data": {
      "application/vnd.plotly.v1+json": {
       "config": {
        "plotlyServerURL": "https://plot.ly"
       },
       "data": [
        {
         "alignmentgroup": "True",
         "bingroup": "x",
         "hovertemplate": "Secteur=BOISSONS<br>clean_date=%{x}<br>count=%{y}<extra></extra>",
         "legendgroup": "BOISSONS",
         "marker": {
          "color": "#636efa",
          "pattern": {
           "shape": ""
          }
         },
         "name": "BOISSONS",
         "offsetgroup": "BOISSONS",
         "orientation": "v",
         "showlegend": true,
         "type": "histogram",
         "x": [
          "2016-05-13",
          "2016-07-06",
          "2016-07-11",
          "2016-07-18",
          "2016-07-25",
          "2016-09-01",
          "2016-12-01",
          "2016-12-03",
          "2016-12-15",
          "2017-04-06",
          "2017-06-26",
          "2017-07-06",
          "2017-07-27",
          "2017-08-03",
          "2017-08-11",
          "2017-02-02",
          "2017-03-01",
          "2018-03-12",
          "2018-03-23",
          "2018-05-28",
          "2018-06-27",
          "2018-06-28",
          "2018-06-30",
          "2018-07-14",
          "2018-07-16",
          "2018-07-17",
          "2018-07-25",
          "2018-08-09",
          "2018-08-26",
          "2018-08-26",
          "2018-08-27",
          "2018-09-24",
          "2018-11-12",
          "2018-11-13",
          "2018-12-24",
          "2018-12-27",
          "2018-12-27",
          "2018-02-19",
          "2018-03-01",
          "2019-03-04",
          "2019-03-11",
          "2019-03-11",
          "2019-03-26",
          "2019-04-15",
          "2019-04-23",
          "2019-04-24",
          "2019-05-06",
          "2019-01-13",
          "2019-05-14",
          "2019-06-02",
          "2019-06-12",
          "2019-06-12",
          "2019-06-12",
          "2019-07-14",
          "2019-07-15",
          "2019-07-15",
          "2019-08-01",
          "2019-08-05",
          "2019-09-09",
          "2019-12-20",
          "2019-03-03",
          "2019-03-03",
          "2020-03-05",
          "2020-03-06",
          "2020-03-09",
          "2020-03-12",
          "2020-04-01",
          "2020-04-02",
          "2020-04-02",
          "2020-04-06",
          "2020-04-06",
          "2020-04-06",
          "2020-04-06",
          "2020-04-06",
          "2020-04-06",
          "2020-04-07",
          "2020-04-09",
          "2020-05-12",
          "2020-05-12",
          "2020-05-25",
          "2020-05-25",
          "2020-05-25",
          "2020-05-26",
          "2020-06-01",
          "2020-06-01",
          "2020-06-03",
          "2020-06-04",
          "2020-06-04",
          "2020-06-08",
          "2020-06-08",
          "2020-06-08",
          "2020-06-10",
          "2020-06-10",
          "2020-06-12",
          "2020-06-13",
          "2020-07-06",
          "2020-07-06",
          "2020-07-08",
          "2020-07-08",
          "2020-07-13",
          "2020-07-13",
          "2020-07-13",
          "2020-07-13",
          "2020-07-13",
          "2020-07-13",
          "2020-07-13",
          "2020-07-13",
          "2020-07-14",
          "2020-07-15",
          "2020-07-16",
          "2020-07-19",
          "2020-07-20",
          "2020-07-29",
          "2020-09-07",
          "2020-09-09",
          "2020-09-21",
          "2020-09-28",
          "2020-10-19",
          "2020-11-17",
          "2021-03-10",
          "2021-03-18",
          "2021-03-18",
          "2021-03-22",
          "2021-03-23",
          "2021-03-24",
          "2021-03-25",
          "2021-04-05",
          "2021-04-06",
          "2021-04-06",
          "2021-04-11",
          "2021-04-11",
          "2021-04-14",
          "2021-04-15",
          "2021-04-15",
          "2021-04-16",
          "2021-04-16",
          "2021-04-18",
          "2021-04-19",
          "2021-05-19",
          "2021-07-01",
          "2021-07-02",
          "2021-07-05",
          "2021-07-05",
          "2021-07-05",
          "2021-07-05",
          "2021-07-08",
          "2021-07-22",
          "2021-08-08",
          "2021-08-08",
          "2021-08-18",
          "2021-08-20",
          "2021-09-08",
          "2021-09-26",
          "2021-10-09",
          "2021-10-28",
          "2021-11-10",
          "2021-11-10",
          "2021-12-10",
          "2021-12-12",
          "2021-12-20",
          "2021-03-07",
          "2021-03-07",
          "2022-03-14",
          "2022-03-28",
          "2022-04-11",
          "2022-04-11",
          "2022-04-11",
          "2022-04-11",
          "2022-04-11",
          "2022-04-11",
          "2022-04-12",
          "2022-04-12",
          "2022-04-14",
          "2022-04-25",
          "2022-04-26",
          "2022-04-27",
          "2022-05-04",
          "2022-05-04",
          "2022-05-15",
          "2022-05-16",
          "2022-05-16",
          "2022-05-16",
          "2022-06-03",
          "2022-06-05",
          "2022-06-05",
          "2022-06-05",
          "2022-06-05",
          "2022-06-05",
          "2022-06-05",
          "2022-06-06",
          "2022-06-06",
          "2022-06-06",
          "2022-06-06",
          "2022-06-13",
          "2022-06-13",
          "2022-06-13",
          "2022-06-13",
          "2022-06-16",
          "2022-06-20",
          "2022-06-20",
          "2022-07-01",
          "2022-07-02",
          "2022-06-30",
          "2022-06-30",
          "2022-06-30",
          "2022-06-30",
          "2022-07-06",
          "2022-07-06",
          "2022-07-12",
          "2022-07-12",
          "2022-07-15",
          "2022-07-17",
          "2022-07-18",
          "2022-09-08",
          "2022-10-02",
          "2022-10-02",
          "2022-10-02",
          "2022-10-02",
          "2022-10-02",
          "2022-10-27",
          "2022-12-26",
          "2022-12-26",
          "2022-03-06",
          "2022-03-06"
         ],
         "xaxis": "x",
         "yaxis": "y"
        }
       ],
       "layout": {
        "barmode": "relative",
        "legend": {
         "title": {
          "text": "Secteur"
         },
         "tracegroupgap": 0
        },
        "template": {
         "data": {
          "bar": [
           {
            "error_x": {
             "color": "#2a3f5f"
            },
            "error_y": {
             "color": "#2a3f5f"
            },
            "marker": {
             "line": {
              "color": "#E5ECF6",
              "width": 0.5
             },
             "pattern": {
              "fillmode": "overlay",
              "size": 10,
              "solidity": 0.2
             }
            },
            "type": "bar"
           }
          ],
          "barpolar": [
           {
            "marker": {
             "line": {
              "color": "#E5ECF6",
              "width": 0.5
             },
             "pattern": {
              "fillmode": "overlay",
              "size": 10,
              "solidity": 0.2
             }
            },
            "type": "barpolar"
           }
          ],
          "carpet": [
           {
            "aaxis": {
             "endlinecolor": "#2a3f5f",
             "gridcolor": "white",
             "linecolor": "white",
             "minorgridcolor": "white",
             "startlinecolor": "#2a3f5f"
            },
            "baxis": {
             "endlinecolor": "#2a3f5f",
             "gridcolor": "white",
             "linecolor": "white",
             "minorgridcolor": "white",
             "startlinecolor": "#2a3f5f"
            },
            "type": "carpet"
           }
          ],
          "choropleth": [
           {
            "colorbar": {
             "outlinewidth": 0,
             "ticks": ""
            },
            "type": "choropleth"
           }
          ],
          "contour": [
           {
            "colorbar": {
             "outlinewidth": 0,
             "ticks": ""
            },
            "colorscale": [
             [
              0,
              "#0d0887"
             ],
             [
              0.1111111111111111,
              "#46039f"
             ],
             [
              0.2222222222222222,
              "#7201a8"
             ],
             [
              0.3333333333333333,
              "#9c179e"
             ],
             [
              0.4444444444444444,
              "#bd3786"
             ],
             [
              0.5555555555555556,
              "#d8576b"
             ],
             [
              0.6666666666666666,
              "#ed7953"
             ],
             [
              0.7777777777777778,
              "#fb9f3a"
             ],
             [
              0.8888888888888888,
              "#fdca26"
             ],
             [
              1,
              "#f0f921"
             ]
            ],
            "type": "contour"
           }
          ],
          "contourcarpet": [
           {
            "colorbar": {
             "outlinewidth": 0,
             "ticks": ""
            },
            "type": "contourcarpet"
           }
          ],
          "heatmap": [
           {
            "colorbar": {
             "outlinewidth": 0,
             "ticks": ""
            },
            "colorscale": [
             [
              0,
              "#0d0887"
             ],
             [
              0.1111111111111111,
              "#46039f"
             ],
             [
              0.2222222222222222,
              "#7201a8"
             ],
             [
              0.3333333333333333,
              "#9c179e"
             ],
             [
              0.4444444444444444,
              "#bd3786"
             ],
             [
              0.5555555555555556,
              "#d8576b"
             ],
             [
              0.6666666666666666,
              "#ed7953"
             ],
             [
              0.7777777777777778,
              "#fb9f3a"
             ],
             [
              0.8888888888888888,
              "#fdca26"
             ],
             [
              1,
              "#f0f921"
             ]
            ],
            "type": "heatmap"
           }
          ],
          "heatmapgl": [
           {
            "colorbar": {
             "outlinewidth": 0,
             "ticks": ""
            },
            "colorscale": [
             [
              0,
              "#0d0887"
             ],
             [
              0.1111111111111111,
              "#46039f"
             ],
             [
              0.2222222222222222,
              "#7201a8"
             ],
             [
              0.3333333333333333,
              "#9c179e"
             ],
             [
              0.4444444444444444,
              "#bd3786"
             ],
             [
              0.5555555555555556,
              "#d8576b"
             ],
             [
              0.6666666666666666,
              "#ed7953"
             ],
             [
              0.7777777777777778,
              "#fb9f3a"
             ],
             [
              0.8888888888888888,
              "#fdca26"
             ],
             [
              1,
              "#f0f921"
             ]
            ],
            "type": "heatmapgl"
           }
          ],
          "histogram": [
           {
            "marker": {
             "pattern": {
              "fillmode": "overlay",
              "size": 10,
              "solidity": 0.2
             }
            },
            "type": "histogram"
           }
          ],
          "histogram2d": [
           {
            "colorbar": {
             "outlinewidth": 0,
             "ticks": ""
            },
            "colorscale": [
             [
              0,
              "#0d0887"
             ],
             [
              0.1111111111111111,
              "#46039f"
             ],
             [
              0.2222222222222222,
              "#7201a8"
             ],
             [
              0.3333333333333333,
              "#9c179e"
             ],
             [
              0.4444444444444444,
              "#bd3786"
             ],
             [
              0.5555555555555556,
              "#d8576b"
             ],
             [
              0.6666666666666666,
              "#ed7953"
             ],
             [
              0.7777777777777778,
              "#fb9f3a"
             ],
             [
              0.8888888888888888,
              "#fdca26"
             ],
             [
              1,
              "#f0f921"
             ]
            ],
            "type": "histogram2d"
           }
          ],
          "histogram2dcontour": [
           {
            "colorbar": {
             "outlinewidth": 0,
             "ticks": ""
            },
            "colorscale": [
             [
              0,
              "#0d0887"
             ],
             [
              0.1111111111111111,
              "#46039f"
             ],
             [
              0.2222222222222222,
              "#7201a8"
             ],
             [
              0.3333333333333333,
              "#9c179e"
             ],
             [
              0.4444444444444444,
              "#bd3786"
             ],
             [
              0.5555555555555556,
              "#d8576b"
             ],
             [
              0.6666666666666666,
              "#ed7953"
             ],
             [
              0.7777777777777778,
              "#fb9f3a"
             ],
             [
              0.8888888888888888,
              "#fdca26"
             ],
             [
              1,
              "#f0f921"
             ]
            ],
            "type": "histogram2dcontour"
           }
          ],
          "mesh3d": [
           {
            "colorbar": {
             "outlinewidth": 0,
             "ticks": ""
            },
            "type": "mesh3d"
           }
          ],
          "parcoords": [
           {
            "line": {
             "colorbar": {
              "outlinewidth": 0,
              "ticks": ""
             }
            },
            "type": "parcoords"
           }
          ],
          "pie": [
           {
            "automargin": true,
            "type": "pie"
           }
          ],
          "scatter": [
           {
            "fillpattern": {
             "fillmode": "overlay",
             "size": 10,
             "solidity": 0.2
            },
            "type": "scatter"
           }
          ],
          "scatter3d": [
           {
            "line": {
             "colorbar": {
              "outlinewidth": 0,
              "ticks": ""
             }
            },
            "marker": {
             "colorbar": {
              "outlinewidth": 0,
              "ticks": ""
             }
            },
            "type": "scatter3d"
           }
          ],
          "scattercarpet": [
           {
            "marker": {
             "colorbar": {
              "outlinewidth": 0,
              "ticks": ""
             }
            },
            "type": "scattercarpet"
           }
          ],
          "scattergeo": [
           {
            "marker": {
             "colorbar": {
              "outlinewidth": 0,
              "ticks": ""
             }
            },
            "type": "scattergeo"
           }
          ],
          "scattergl": [
           {
            "marker": {
             "colorbar": {
              "outlinewidth": 0,
              "ticks": ""
             }
            },
            "type": "scattergl"
           }
          ],
          "scattermapbox": [
           {
            "marker": {
             "colorbar": {
              "outlinewidth": 0,
              "ticks": ""
             }
            },
            "type": "scattermapbox"
           }
          ],
          "scatterpolar": [
           {
            "marker": {
             "colorbar": {
              "outlinewidth": 0,
              "ticks": ""
             }
            },
            "type": "scatterpolar"
           }
          ],
          "scatterpolargl": [
           {
            "marker": {
             "colorbar": {
              "outlinewidth": 0,
              "ticks": ""
             }
            },
            "type": "scatterpolargl"
           }
          ],
          "scatterternary": [
           {
            "marker": {
             "colorbar": {
              "outlinewidth": 0,
              "ticks": ""
             }
            },
            "type": "scatterternary"
           }
          ],
          "surface": [
           {
            "colorbar": {
             "outlinewidth": 0,
             "ticks": ""
            },
            "colorscale": [
             [
              0,
              "#0d0887"
             ],
             [
              0.1111111111111111,
              "#46039f"
             ],
             [
              0.2222222222222222,
              "#7201a8"
             ],
             [
              0.3333333333333333,
              "#9c179e"
             ],
             [
              0.4444444444444444,
              "#bd3786"
             ],
             [
              0.5555555555555556,
              "#d8576b"
             ],
             [
              0.6666666666666666,
              "#ed7953"
             ],
             [
              0.7777777777777778,
              "#fb9f3a"
             ],
             [
              0.8888888888888888,
              "#fdca26"
             ],
             [
              1,
              "#f0f921"
             ]
            ],
            "type": "surface"
           }
          ],
          "table": [
           {
            "cells": {
             "fill": {
              "color": "#EBF0F8"
             },
             "line": {
              "color": "white"
             }
            },
            "header": {
             "fill": {
              "color": "#C8D4E3"
             },
             "line": {
              "color": "white"
             }
            },
            "type": "table"
           }
          ]
         },
         "layout": {
          "annotationdefaults": {
           "arrowcolor": "#2a3f5f",
           "arrowhead": 0,
           "arrowwidth": 1
          },
          "autotypenumbers": "strict",
          "coloraxis": {
           "colorbar": {
            "outlinewidth": 0,
            "ticks": ""
           }
          },
          "colorscale": {
           "diverging": [
            [
             0,
             "#8e0152"
            ],
            [
             0.1,
             "#c51b7d"
            ],
            [
             0.2,
             "#de77ae"
            ],
            [
             0.3,
             "#f1b6da"
            ],
            [
             0.4,
             "#fde0ef"
            ],
            [
             0.5,
             "#f7f7f7"
            ],
            [
             0.6,
             "#e6f5d0"
            ],
            [
             0.7,
             "#b8e186"
            ],
            [
             0.8,
             "#7fbc41"
            ],
            [
             0.9,
             "#4d9221"
            ],
            [
             1,
             "#276419"
            ]
           ],
           "sequential": [
            [
             0,
             "#0d0887"
            ],
            [
             0.1111111111111111,
             "#46039f"
            ],
            [
             0.2222222222222222,
             "#7201a8"
            ],
            [
             0.3333333333333333,
             "#9c179e"
            ],
            [
             0.4444444444444444,
             "#bd3786"
            ],
            [
             0.5555555555555556,
             "#d8576b"
            ],
            [
             0.6666666666666666,
             "#ed7953"
            ],
            [
             0.7777777777777778,
             "#fb9f3a"
            ],
            [
             0.8888888888888888,
             "#fdca26"
            ],
            [
             1,
             "#f0f921"
            ]
           ],
           "sequentialminus": [
            [
             0,
             "#0d0887"
            ],
            [
             0.1111111111111111,
             "#46039f"
            ],
            [
             0.2222222222222222,
             "#7201a8"
            ],
            [
             0.3333333333333333,
             "#9c179e"
            ],
            [
             0.4444444444444444,
             "#bd3786"
            ],
            [
             0.5555555555555556,
             "#d8576b"
            ],
            [
             0.6666666666666666,
             "#ed7953"
            ],
            [
             0.7777777777777778,
             "#fb9f3a"
            ],
            [
             0.8888888888888888,
             "#fdca26"
            ],
            [
             1,
             "#f0f921"
            ]
           ]
          },
          "colorway": [
           "#636efa",
           "#EF553B",
           "#00cc96",
           "#ab63fa",
           "#FFA15A",
           "#19d3f3",
           "#FF6692",
           "#B6E880",
           "#FF97FF",
           "#FECB52"
          ],
          "font": {
           "color": "#2a3f5f"
          },
          "geo": {
           "bgcolor": "white",
           "lakecolor": "white",
           "landcolor": "#E5ECF6",
           "showlakes": true,
           "showland": true,
           "subunitcolor": "white"
          },
          "hoverlabel": {
           "align": "left"
          },
          "hovermode": "closest",
          "mapbox": {
           "style": "light"
          },
          "paper_bgcolor": "white",
          "plot_bgcolor": "#E5ECF6",
          "polar": {
           "angularaxis": {
            "gridcolor": "white",
            "linecolor": "white",
            "ticks": ""
           },
           "bgcolor": "#E5ECF6",
           "radialaxis": {
            "gridcolor": "white",
            "linecolor": "white",
            "ticks": ""
           }
          },
          "scene": {
           "xaxis": {
            "backgroundcolor": "#E5ECF6",
            "gridcolor": "white",
            "gridwidth": 2,
            "linecolor": "white",
            "showbackground": true,
            "ticks": "",
            "zerolinecolor": "white"
           },
           "yaxis": {
            "backgroundcolor": "#E5ECF6",
            "gridcolor": "white",
            "gridwidth": 2,
            "linecolor": "white",
            "showbackground": true,
            "ticks": "",
            "zerolinecolor": "white"
           },
           "zaxis": {
            "backgroundcolor": "#E5ECF6",
            "gridcolor": "white",
            "gridwidth": 2,
            "linecolor": "white",
            "showbackground": true,
            "ticks": "",
            "zerolinecolor": "white"
           }
          },
          "shapedefaults": {
           "line": {
            "color": "#2a3f5f"
           }
          },
          "ternary": {
           "aaxis": {
            "gridcolor": "white",
            "linecolor": "white",
            "ticks": ""
           },
           "baxis": {
            "gridcolor": "white",
            "linecolor": "white",
            "ticks": ""
           },
           "bgcolor": "#E5ECF6",
           "caxis": {
            "gridcolor": "white",
            "linecolor": "white",
            "ticks": ""
           }
          },
          "title": {
           "x": 0.05
          },
          "xaxis": {
           "automargin": true,
           "gridcolor": "white",
           "linecolor": "white",
           "ticks": "",
           "title": {
            "standoff": 15
           },
           "zerolinecolor": "white",
           "zerolinewidth": 2
          },
          "yaxis": {
           "automargin": true,
           "gridcolor": "white",
           "linecolor": "white",
           "ticks": "",
           "title": {
            "standoff": 15
           },
           "zerolinecolor": "white",
           "zerolinewidth": 2
          }
         }
        },
        "title": {
         "text": "Ads with environnement autre in themes"
        },
        "xaxis": {
         "anchor": "y",
         "domain": [
          0,
          1
         ],
         "title": {
          "text": "clean_date"
         }
        },
        "yaxis": {
         "anchor": "x",
         "domain": [
          0,
          1
         ],
         "title": {
          "text": "count"
         }
        }
       }
      }
     },
     "metadata": {},
     "output_type": "display_data"
    },
    {
     "data": {
      "application/vnd.plotly.v1+json": {
       "config": {
        "plotlyServerURL": "https://plot.ly"
       },
       "data": [
        {
         "alignmentgroup": "True",
         "bingroup": "x",
         "hovertemplate": "Secteur=BOISSONS<br>clean_date=%{x}<br>count=%{y}<extra></extra>",
         "legendgroup": "BOISSONS",
         "marker": {
          "color": "#636efa",
          "pattern": {
           "shape": ""
          }
         },
         "name": "BOISSONS",
         "offsetgroup": "BOISSONS",
         "orientation": "v",
         "showlegend": true,
         "type": "histogram",
         "x": [
          "2021-11-10",
          "2021-11-10"
         ],
         "xaxis": "x",
         "yaxis": "y"
        }
       ],
       "layout": {
        "barmode": "relative",
        "legend": {
         "title": {
          "text": "Secteur"
         },
         "tracegroupgap": 0
        },
        "template": {
         "data": {
          "bar": [
           {
            "error_x": {
             "color": "#2a3f5f"
            },
            "error_y": {
             "color": "#2a3f5f"
            },
            "marker": {
             "line": {
              "color": "#E5ECF6",
              "width": 0.5
             },
             "pattern": {
              "fillmode": "overlay",
              "size": 10,
              "solidity": 0.2
             }
            },
            "type": "bar"
           }
          ],
          "barpolar": [
           {
            "marker": {
             "line": {
              "color": "#E5ECF6",
              "width": 0.5
             },
             "pattern": {
              "fillmode": "overlay",
              "size": 10,
              "solidity": 0.2
             }
            },
            "type": "barpolar"
           }
          ],
          "carpet": [
           {
            "aaxis": {
             "endlinecolor": "#2a3f5f",
             "gridcolor": "white",
             "linecolor": "white",
             "minorgridcolor": "white",
             "startlinecolor": "#2a3f5f"
            },
            "baxis": {
             "endlinecolor": "#2a3f5f",
             "gridcolor": "white",
             "linecolor": "white",
             "minorgridcolor": "white",
             "startlinecolor": "#2a3f5f"
            },
            "type": "carpet"
           }
          ],
          "choropleth": [
           {
            "colorbar": {
             "outlinewidth": 0,
             "ticks": ""
            },
            "type": "choropleth"
           }
          ],
          "contour": [
           {
            "colorbar": {
             "outlinewidth": 0,
             "ticks": ""
            },
            "colorscale": [
             [
              0,
              "#0d0887"
             ],
             [
              0.1111111111111111,
              "#46039f"
             ],
             [
              0.2222222222222222,
              "#7201a8"
             ],
             [
              0.3333333333333333,
              "#9c179e"
             ],
             [
              0.4444444444444444,
              "#bd3786"
             ],
             [
              0.5555555555555556,
              "#d8576b"
             ],
             [
              0.6666666666666666,
              "#ed7953"
             ],
             [
              0.7777777777777778,
              "#fb9f3a"
             ],
             [
              0.8888888888888888,
              "#fdca26"
             ],
             [
              1,
              "#f0f921"
             ]
            ],
            "type": "contour"
           }
          ],
          "contourcarpet": [
           {
            "colorbar": {
             "outlinewidth": 0,
             "ticks": ""
            },
            "type": "contourcarpet"
           }
          ],
          "heatmap": [
           {
            "colorbar": {
             "outlinewidth": 0,
             "ticks": ""
            },
            "colorscale": [
             [
              0,
              "#0d0887"
             ],
             [
              0.1111111111111111,
              "#46039f"
             ],
             [
              0.2222222222222222,
              "#7201a8"
             ],
             [
              0.3333333333333333,
              "#9c179e"
             ],
             [
              0.4444444444444444,
              "#bd3786"
             ],
             [
              0.5555555555555556,
              "#d8576b"
             ],
             [
              0.6666666666666666,
              "#ed7953"
             ],
             [
              0.7777777777777778,
              "#fb9f3a"
             ],
             [
              0.8888888888888888,
              "#fdca26"
             ],
             [
              1,
              "#f0f921"
             ]
            ],
            "type": "heatmap"
           }
          ],
          "heatmapgl": [
           {
            "colorbar": {
             "outlinewidth": 0,
             "ticks": ""
            },
            "colorscale": [
             [
              0,
              "#0d0887"
             ],
             [
              0.1111111111111111,
              "#46039f"
             ],
             [
              0.2222222222222222,
              "#7201a8"
             ],
             [
              0.3333333333333333,
              "#9c179e"
             ],
             [
              0.4444444444444444,
              "#bd3786"
             ],
             [
              0.5555555555555556,
              "#d8576b"
             ],
             [
              0.6666666666666666,
              "#ed7953"
             ],
             [
              0.7777777777777778,
              "#fb9f3a"
             ],
             [
              0.8888888888888888,
              "#fdca26"
             ],
             [
              1,
              "#f0f921"
             ]
            ],
            "type": "heatmapgl"
           }
          ],
          "histogram": [
           {
            "marker": {
             "pattern": {
              "fillmode": "overlay",
              "size": 10,
              "solidity": 0.2
             }
            },
            "type": "histogram"
           }
          ],
          "histogram2d": [
           {
            "colorbar": {
             "outlinewidth": 0,
             "ticks": ""
            },
            "colorscale": [
             [
              0,
              "#0d0887"
             ],
             [
              0.1111111111111111,
              "#46039f"
             ],
             [
              0.2222222222222222,
              "#7201a8"
             ],
             [
              0.3333333333333333,
              "#9c179e"
             ],
             [
              0.4444444444444444,
              "#bd3786"
             ],
             [
              0.5555555555555556,
              "#d8576b"
             ],
             [
              0.6666666666666666,
              "#ed7953"
             ],
             [
              0.7777777777777778,
              "#fb9f3a"
             ],
             [
              0.8888888888888888,
              "#fdca26"
             ],
             [
              1,
              "#f0f921"
             ]
            ],
            "type": "histogram2d"
           }
          ],
          "histogram2dcontour": [
           {
            "colorbar": {
             "outlinewidth": 0,
             "ticks": ""
            },
            "colorscale": [
             [
              0,
              "#0d0887"
             ],
             [
              0.1111111111111111,
              "#46039f"
             ],
             [
              0.2222222222222222,
              "#7201a8"
             ],
             [
              0.3333333333333333,
              "#9c179e"
             ],
             [
              0.4444444444444444,
              "#bd3786"
             ],
             [
              0.5555555555555556,
              "#d8576b"
             ],
             [
              0.6666666666666666,
              "#ed7953"
             ],
             [
              0.7777777777777778,
              "#fb9f3a"
             ],
             [
              0.8888888888888888,
              "#fdca26"
             ],
             [
              1,
              "#f0f921"
             ]
            ],
            "type": "histogram2dcontour"
           }
          ],
          "mesh3d": [
           {
            "colorbar": {
             "outlinewidth": 0,
             "ticks": ""
            },
            "type": "mesh3d"
           }
          ],
          "parcoords": [
           {
            "line": {
             "colorbar": {
              "outlinewidth": 0,
              "ticks": ""
             }
            },
            "type": "parcoords"
           }
          ],
          "pie": [
           {
            "automargin": true,
            "type": "pie"
           }
          ],
          "scatter": [
           {
            "fillpattern": {
             "fillmode": "overlay",
             "size": 10,
             "solidity": 0.2
            },
            "type": "scatter"
           }
          ],
          "scatter3d": [
           {
            "line": {
             "colorbar": {
              "outlinewidth": 0,
              "ticks": ""
             }
            },
            "marker": {
             "colorbar": {
              "outlinewidth": 0,
              "ticks": ""
             }
            },
            "type": "scatter3d"
           }
          ],
          "scattercarpet": [
           {
            "marker": {
             "colorbar": {
              "outlinewidth": 0,
              "ticks": ""
             }
            },
            "type": "scattercarpet"
           }
          ],
          "scattergeo": [
           {
            "marker": {
             "colorbar": {
              "outlinewidth": 0,
              "ticks": ""
             }
            },
            "type": "scattergeo"
           }
          ],
          "scattergl": [
           {
            "marker": {
             "colorbar": {
              "outlinewidth": 0,
              "ticks": ""
             }
            },
            "type": "scattergl"
           }
          ],
          "scattermapbox": [
           {
            "marker": {
             "colorbar": {
              "outlinewidth": 0,
              "ticks": ""
             }
            },
            "type": "scattermapbox"
           }
          ],
          "scatterpolar": [
           {
            "marker": {
             "colorbar": {
              "outlinewidth": 0,
              "ticks": ""
             }
            },
            "type": "scatterpolar"
           }
          ],
          "scatterpolargl": [
           {
            "marker": {
             "colorbar": {
              "outlinewidth": 0,
              "ticks": ""
             }
            },
            "type": "scatterpolargl"
           }
          ],
          "scatterternary": [
           {
            "marker": {
             "colorbar": {
              "outlinewidth": 0,
              "ticks": ""
             }
            },
            "type": "scatterternary"
           }
          ],
          "surface": [
           {
            "colorbar": {
             "outlinewidth": 0,
             "ticks": ""
            },
            "colorscale": [
             [
              0,
              "#0d0887"
             ],
             [
              0.1111111111111111,
              "#46039f"
             ],
             [
              0.2222222222222222,
              "#7201a8"
             ],
             [
              0.3333333333333333,
              "#9c179e"
             ],
             [
              0.4444444444444444,
              "#bd3786"
             ],
             [
              0.5555555555555556,
              "#d8576b"
             ],
             [
              0.6666666666666666,
              "#ed7953"
             ],
             [
              0.7777777777777778,
              "#fb9f3a"
             ],
             [
              0.8888888888888888,
              "#fdca26"
             ],
             [
              1,
              "#f0f921"
             ]
            ],
            "type": "surface"
           }
          ],
          "table": [
           {
            "cells": {
             "fill": {
              "color": "#EBF0F8"
             },
             "line": {
              "color": "white"
             }
            },
            "header": {
             "fill": {
              "color": "#C8D4E3"
             },
             "line": {
              "color": "white"
             }
            },
            "type": "table"
           }
          ]
         },
         "layout": {
          "annotationdefaults": {
           "arrowcolor": "#2a3f5f",
           "arrowhead": 0,
           "arrowwidth": 1
          },
          "autotypenumbers": "strict",
          "coloraxis": {
           "colorbar": {
            "outlinewidth": 0,
            "ticks": ""
           }
          },
          "colorscale": {
           "diverging": [
            [
             0,
             "#8e0152"
            ],
            [
             0.1,
             "#c51b7d"
            ],
            [
             0.2,
             "#de77ae"
            ],
            [
             0.3,
             "#f1b6da"
            ],
            [
             0.4,
             "#fde0ef"
            ],
            [
             0.5,
             "#f7f7f7"
            ],
            [
             0.6,
             "#e6f5d0"
            ],
            [
             0.7,
             "#b8e186"
            ],
            [
             0.8,
             "#7fbc41"
            ],
            [
             0.9,
             "#4d9221"
            ],
            [
             1,
             "#276419"
            ]
           ],
           "sequential": [
            [
             0,
             "#0d0887"
            ],
            [
             0.1111111111111111,
             "#46039f"
            ],
            [
             0.2222222222222222,
             "#7201a8"
            ],
            [
             0.3333333333333333,
             "#9c179e"
            ],
            [
             0.4444444444444444,
             "#bd3786"
            ],
            [
             0.5555555555555556,
             "#d8576b"
            ],
            [
             0.6666666666666666,
             "#ed7953"
            ],
            [
             0.7777777777777778,
             "#fb9f3a"
            ],
            [
             0.8888888888888888,
             "#fdca26"
            ],
            [
             1,
             "#f0f921"
            ]
           ],
           "sequentialminus": [
            [
             0,
             "#0d0887"
            ],
            [
             0.1111111111111111,
             "#46039f"
            ],
            [
             0.2222222222222222,
             "#7201a8"
            ],
            [
             0.3333333333333333,
             "#9c179e"
            ],
            [
             0.4444444444444444,
             "#bd3786"
            ],
            [
             0.5555555555555556,
             "#d8576b"
            ],
            [
             0.6666666666666666,
             "#ed7953"
            ],
            [
             0.7777777777777778,
             "#fb9f3a"
            ],
            [
             0.8888888888888888,
             "#fdca26"
            ],
            [
             1,
             "#f0f921"
            ]
           ]
          },
          "colorway": [
           "#636efa",
           "#EF553B",
           "#00cc96",
           "#ab63fa",
           "#FFA15A",
           "#19d3f3",
           "#FF6692",
           "#B6E880",
           "#FF97FF",
           "#FECB52"
          ],
          "font": {
           "color": "#2a3f5f"
          },
          "geo": {
           "bgcolor": "white",
           "lakecolor": "white",
           "landcolor": "#E5ECF6",
           "showlakes": true,
           "showland": true,
           "subunitcolor": "white"
          },
          "hoverlabel": {
           "align": "left"
          },
          "hovermode": "closest",
          "mapbox": {
           "style": "light"
          },
          "paper_bgcolor": "white",
          "plot_bgcolor": "#E5ECF6",
          "polar": {
           "angularaxis": {
            "gridcolor": "white",
            "linecolor": "white",
            "ticks": ""
           },
           "bgcolor": "#E5ECF6",
           "radialaxis": {
            "gridcolor": "white",
            "linecolor": "white",
            "ticks": ""
           }
          },
          "scene": {
           "xaxis": {
            "backgroundcolor": "#E5ECF6",
            "gridcolor": "white",
            "gridwidth": 2,
            "linecolor": "white",
            "showbackground": true,
            "ticks": "",
            "zerolinecolor": "white"
           },
           "yaxis": {
            "backgroundcolor": "#E5ECF6",
            "gridcolor": "white",
            "gridwidth": 2,
            "linecolor": "white",
            "showbackground": true,
            "ticks": "",
            "zerolinecolor": "white"
           },
           "zaxis": {
            "backgroundcolor": "#E5ECF6",
            "gridcolor": "white",
            "gridwidth": 2,
            "linecolor": "white",
            "showbackground": true,
            "ticks": "",
            "zerolinecolor": "white"
           }
          },
          "shapedefaults": {
           "line": {
            "color": "#2a3f5f"
           }
          },
          "ternary": {
           "aaxis": {
            "gridcolor": "white",
            "linecolor": "white",
            "ticks": ""
           },
           "baxis": {
            "gridcolor": "white",
            "linecolor": "white",
            "ticks": ""
           },
           "bgcolor": "#E5ECF6",
           "caxis": {
            "gridcolor": "white",
            "linecolor": "white",
            "ticks": ""
           }
          },
          "title": {
           "x": 0.05
          },
          "xaxis": {
           "automargin": true,
           "gridcolor": "white",
           "linecolor": "white",
           "ticks": "",
           "title": {
            "standoff": 15
           },
           "zerolinecolor": "white",
           "zerolinewidth": 2
          },
          "yaxis": {
           "automargin": true,
           "gridcolor": "white",
           "linecolor": "white",
           "ticks": "",
           "title": {
            "standoff": 15
           },
           "zerolinecolor": "white",
           "zerolinewidth": 2
          }
         }
        },
        "title": {
         "text": "Ads with nutri-score in themes"
        },
        "xaxis": {
         "anchor": "y",
         "domain": [
          0,
          1
         ],
         "title": {
          "text": "clean_date"
         }
        },
        "yaxis": {
         "anchor": "x",
         "domain": [
          0,
          1
         ],
         "title": {
          "text": "count"
         }
        }
       }
      }
     },
     "metadata": {},
     "output_type": "display_data"
    }
   ],
   "source": [
    "words_to_plot = ['gout', 'bonne humeur', 'environnement autre', 'nutri-score']\n",
    "\n",
    "\n",
    "def plot_theme_prevalence(theme=''):\n",
    "    sub_df = drinks_df[[theme in x for x in drinks_df['clean_theme']]]\n",
    "    fig = px.histogram(sub_df,\n",
    "                x='clean_date',\n",
    "                color='Secteur', title=f'Ads with {theme} in themes')\n",
    "    fig.show()\n",
    "\n",
    "for word in words_to_plot: plot_theme_prevalence(word)\n"
   ]
  },
  {
   "cell_type": "code",
   "execution_count": 32,
   "metadata": {},
   "outputs": [],
   "source": [
    "token_pattern = r'\\b(?:\\w+-\\w+|\\w+|nutri-score)\\b'\n",
    "vectorizer = CountVectorizer(tokenizer =lambda t: re.findall(token_pattern, t.lower()))"
   ]
  },
  {
   "cell_type": "code",
   "execution_count": 33,
   "metadata": {},
   "outputs": [],
   "source": [
    "water_variety_names = ['EAUX GAZEUSES', 'EAUX MINERALES PLATES']\n",
    "\n",
    "drinks_df['group'] = ['group' if x in water_variety_names else 'treatment' for x in drinks_df['Variété']]"
   ]
  },
  {
   "cell_type": "code",
   "execution_count": 34,
   "metadata": {},
   "outputs": [
    {
     "data": {
      "text/html": [
       "<div>\n",
       "<style scoped>\n",
       "    .dataframe tbody tr th:only-of-type {\n",
       "        vertical-align: middle;\n",
       "    }\n",
       "\n",
       "    .dataframe tbody tr th {\n",
       "        vertical-align: top;\n",
       "    }\n",
       "\n",
       "    .dataframe thead th {\n",
       "        text-align: right;\n",
       "    }\n",
       "</style>\n",
       "<table border=\"1\" class=\"dataframe\">\n",
       "  <thead>\n",
       "    <tr style=\"text-align: right;\">\n",
       "      <th></th>\n",
       "      <th>a</th>\n",
       "      <th>absurde</th>\n",
       "      <th>accent</th>\n",
       "      <th>action</th>\n",
       "      <th>actualite</th>\n",
       "      <th>aeronautique</th>\n",
       "      <th>affichage</th>\n",
       "      <th>africain</th>\n",
       "      <th>agressivite</th>\n",
       "      <th>agricole</th>\n",
       "      <th>...</th>\n",
       "      <th>visuelle</th>\n",
       "      <th>vitalite</th>\n",
       "      <th>voeux</th>\n",
       "      <th>voix</th>\n",
       "      <th>volley-ball</th>\n",
       "      <th>vtt</th>\n",
       "      <th>vue</th>\n",
       "      <th>yoga</th>\n",
       "      <th>you</th>\n",
       "      <th>youtubeur</th>\n",
       "    </tr>\n",
       "  </thead>\n",
       "  <tbody>\n",
       "    <tr>\n",
       "      <th>0</th>\n",
       "      <td>0</td>\n",
       "      <td>0</td>\n",
       "      <td>0</td>\n",
       "      <td>0</td>\n",
       "      <td>0</td>\n",
       "      <td>0</td>\n",
       "      <td>0</td>\n",
       "      <td>0</td>\n",
       "      <td>0</td>\n",
       "      <td>0</td>\n",
       "      <td>...</td>\n",
       "      <td>0</td>\n",
       "      <td>0</td>\n",
       "      <td>0</td>\n",
       "      <td>0</td>\n",
       "      <td>0</td>\n",
       "      <td>0</td>\n",
       "      <td>0</td>\n",
       "      <td>0</td>\n",
       "      <td>0</td>\n",
       "      <td>0</td>\n",
       "    </tr>\n",
       "    <tr>\n",
       "      <th>1</th>\n",
       "      <td>0</td>\n",
       "      <td>0</td>\n",
       "      <td>0</td>\n",
       "      <td>0</td>\n",
       "      <td>0</td>\n",
       "      <td>0</td>\n",
       "      <td>0</td>\n",
       "      <td>0</td>\n",
       "      <td>0</td>\n",
       "      <td>0</td>\n",
       "      <td>...</td>\n",
       "      <td>0</td>\n",
       "      <td>0</td>\n",
       "      <td>0</td>\n",
       "      <td>0</td>\n",
       "      <td>0</td>\n",
       "      <td>0</td>\n",
       "      <td>0</td>\n",
       "      <td>0</td>\n",
       "      <td>0</td>\n",
       "      <td>0</td>\n",
       "    </tr>\n",
       "    <tr>\n",
       "      <th>2</th>\n",
       "      <td>0</td>\n",
       "      <td>0</td>\n",
       "      <td>0</td>\n",
       "      <td>0</td>\n",
       "      <td>0</td>\n",
       "      <td>0</td>\n",
       "      <td>0</td>\n",
       "      <td>0</td>\n",
       "      <td>0</td>\n",
       "      <td>0</td>\n",
       "      <td>...</td>\n",
       "      <td>0</td>\n",
       "      <td>0</td>\n",
       "      <td>0</td>\n",
       "      <td>0</td>\n",
       "      <td>0</td>\n",
       "      <td>0</td>\n",
       "      <td>0</td>\n",
       "      <td>0</td>\n",
       "      <td>0</td>\n",
       "      <td>0</td>\n",
       "    </tr>\n",
       "    <tr>\n",
       "      <th>3</th>\n",
       "      <td>0</td>\n",
       "      <td>0</td>\n",
       "      <td>0</td>\n",
       "      <td>0</td>\n",
       "      <td>0</td>\n",
       "      <td>0</td>\n",
       "      <td>0</td>\n",
       "      <td>0</td>\n",
       "      <td>0</td>\n",
       "      <td>0</td>\n",
       "      <td>...</td>\n",
       "      <td>0</td>\n",
       "      <td>0</td>\n",
       "      <td>0</td>\n",
       "      <td>0</td>\n",
       "      <td>0</td>\n",
       "      <td>0</td>\n",
       "      <td>0</td>\n",
       "      <td>0</td>\n",
       "      <td>0</td>\n",
       "      <td>0</td>\n",
       "    </tr>\n",
       "    <tr>\n",
       "      <th>4</th>\n",
       "      <td>0</td>\n",
       "      <td>0</td>\n",
       "      <td>0</td>\n",
       "      <td>0</td>\n",
       "      <td>0</td>\n",
       "      <td>0</td>\n",
       "      <td>0</td>\n",
       "      <td>0</td>\n",
       "      <td>0</td>\n",
       "      <td>0</td>\n",
       "      <td>...</td>\n",
       "      <td>0</td>\n",
       "      <td>0</td>\n",
       "      <td>0</td>\n",
       "      <td>0</td>\n",
       "      <td>0</td>\n",
       "      <td>0</td>\n",
       "      <td>0</td>\n",
       "      <td>0</td>\n",
       "      <td>0</td>\n",
       "      <td>0</td>\n",
       "    </tr>\n",
       "    <tr>\n",
       "      <th>...</th>\n",
       "      <td>...</td>\n",
       "      <td>...</td>\n",
       "      <td>...</td>\n",
       "      <td>...</td>\n",
       "      <td>...</td>\n",
       "      <td>...</td>\n",
       "      <td>...</td>\n",
       "      <td>...</td>\n",
       "      <td>...</td>\n",
       "      <td>...</td>\n",
       "      <td>...</td>\n",
       "      <td>...</td>\n",
       "      <td>...</td>\n",
       "      <td>...</td>\n",
       "      <td>...</td>\n",
       "      <td>...</td>\n",
       "      <td>...</td>\n",
       "      <td>...</td>\n",
       "      <td>...</td>\n",
       "      <td>...</td>\n",
       "      <td>...</td>\n",
       "    </tr>\n",
       "    <tr>\n",
       "      <th>1189</th>\n",
       "      <td>0</td>\n",
       "      <td>0</td>\n",
       "      <td>0</td>\n",
       "      <td>0</td>\n",
       "      <td>0</td>\n",
       "      <td>0</td>\n",
       "      <td>0</td>\n",
       "      <td>0</td>\n",
       "      <td>0</td>\n",
       "      <td>0</td>\n",
       "      <td>...</td>\n",
       "      <td>0</td>\n",
       "      <td>0</td>\n",
       "      <td>0</td>\n",
       "      <td>0</td>\n",
       "      <td>0</td>\n",
       "      <td>0</td>\n",
       "      <td>0</td>\n",
       "      <td>0</td>\n",
       "      <td>0</td>\n",
       "      <td>0</td>\n",
       "    </tr>\n",
       "    <tr>\n",
       "      <th>1190</th>\n",
       "      <td>0</td>\n",
       "      <td>0</td>\n",
       "      <td>0</td>\n",
       "      <td>0</td>\n",
       "      <td>0</td>\n",
       "      <td>0</td>\n",
       "      <td>0</td>\n",
       "      <td>0</td>\n",
       "      <td>0</td>\n",
       "      <td>0</td>\n",
       "      <td>...</td>\n",
       "      <td>0</td>\n",
       "      <td>1</td>\n",
       "      <td>0</td>\n",
       "      <td>0</td>\n",
       "      <td>0</td>\n",
       "      <td>0</td>\n",
       "      <td>0</td>\n",
       "      <td>0</td>\n",
       "      <td>0</td>\n",
       "      <td>0</td>\n",
       "    </tr>\n",
       "    <tr>\n",
       "      <th>1191</th>\n",
       "      <td>0</td>\n",
       "      <td>0</td>\n",
       "      <td>0</td>\n",
       "      <td>0</td>\n",
       "      <td>0</td>\n",
       "      <td>0</td>\n",
       "      <td>0</td>\n",
       "      <td>0</td>\n",
       "      <td>0</td>\n",
       "      <td>0</td>\n",
       "      <td>...</td>\n",
       "      <td>0</td>\n",
       "      <td>0</td>\n",
       "      <td>0</td>\n",
       "      <td>0</td>\n",
       "      <td>0</td>\n",
       "      <td>0</td>\n",
       "      <td>0</td>\n",
       "      <td>0</td>\n",
       "      <td>0</td>\n",
       "      <td>0</td>\n",
       "    </tr>\n",
       "    <tr>\n",
       "      <th>1192</th>\n",
       "      <td>0</td>\n",
       "      <td>0</td>\n",
       "      <td>0</td>\n",
       "      <td>0</td>\n",
       "      <td>0</td>\n",
       "      <td>0</td>\n",
       "      <td>0</td>\n",
       "      <td>0</td>\n",
       "      <td>0</td>\n",
       "      <td>0</td>\n",
       "      <td>...</td>\n",
       "      <td>0</td>\n",
       "      <td>0</td>\n",
       "      <td>0</td>\n",
       "      <td>0</td>\n",
       "      <td>0</td>\n",
       "      <td>0</td>\n",
       "      <td>0</td>\n",
       "      <td>0</td>\n",
       "      <td>0</td>\n",
       "      <td>0</td>\n",
       "    </tr>\n",
       "    <tr>\n",
       "      <th>1193</th>\n",
       "      <td>0</td>\n",
       "      <td>0</td>\n",
       "      <td>0</td>\n",
       "      <td>0</td>\n",
       "      <td>0</td>\n",
       "      <td>0</td>\n",
       "      <td>0</td>\n",
       "      <td>0</td>\n",
       "      <td>0</td>\n",
       "      <td>0</td>\n",
       "      <td>...</td>\n",
       "      <td>0</td>\n",
       "      <td>0</td>\n",
       "      <td>0</td>\n",
       "      <td>0</td>\n",
       "      <td>0</td>\n",
       "      <td>0</td>\n",
       "      <td>0</td>\n",
       "      <td>0</td>\n",
       "      <td>0</td>\n",
       "      <td>0</td>\n",
       "    </tr>\n",
       "  </tbody>\n",
       "</table>\n",
       "<p>1194 rows × 526 columns</p>\n",
       "</div>"
      ],
      "text/plain": [
       "      a  absurde  accent  action  actualite  aeronautique  affichage  \\\n",
       "0     0        0       0       0          0             0          0   \n",
       "1     0        0       0       0          0             0          0   \n",
       "2     0        0       0       0          0             0          0   \n",
       "3     0        0       0       0          0             0          0   \n",
       "4     0        0       0       0          0             0          0   \n",
       "...  ..      ...     ...     ...        ...           ...        ...   \n",
       "1189  0        0       0       0          0             0          0   \n",
       "1190  0        0       0       0          0             0          0   \n",
       "1191  0        0       0       0          0             0          0   \n",
       "1192  0        0       0       0          0             0          0   \n",
       "1193  0        0       0       0          0             0          0   \n",
       "\n",
       "      africain  agressivite  agricole  ...  visuelle  vitalite  voeux  voix  \\\n",
       "0            0            0         0  ...         0         0      0     0   \n",
       "1            0            0         0  ...         0         0      0     0   \n",
       "2            0            0         0  ...         0         0      0     0   \n",
       "3            0            0         0  ...         0         0      0     0   \n",
       "4            0            0         0  ...         0         0      0     0   \n",
       "...        ...          ...       ...  ...       ...       ...    ...   ...   \n",
       "1189         0            0         0  ...         0         0      0     0   \n",
       "1190         0            0         0  ...         0         1      0     0   \n",
       "1191         0            0         0  ...         0         0      0     0   \n",
       "1192         0            0         0  ...         0         0      0     0   \n",
       "1193         0            0         0  ...         0         0      0     0   \n",
       "\n",
       "      volley-ball  vtt  vue  yoga  you  youtubeur  \n",
       "0               0    0    0     0    0          0  \n",
       "1               0    0    0     0    0          0  \n",
       "2               0    0    0     0    0          0  \n",
       "3               0    0    0     0    0          0  \n",
       "4               0    0    0     0    0          0  \n",
       "...           ...  ...  ...   ...  ...        ...  \n",
       "1189            0    0    0     0    0          0  \n",
       "1190            0    0    0     0    0          0  \n",
       "1191            0    0    0     0    0          0  \n",
       "1192            0    0    0     0    0          0  \n",
       "1193            0    0    0     0    0          0  \n",
       "\n",
       "[1194 rows x 526 columns]"
      ]
     },
     "execution_count": 34,
     "metadata": {},
     "output_type": "execute_result"
    }
   ],
   "source": [
    "token_pattern = r'\\b(?:\\w+-\\w+|\\w+|nutri-score)\\b'\n",
    "vectorizer = CountVectorizer(token_pattern=token_pattern)\n",
    "\n",
    "\n",
    "X = vectorizer.fit_transform(drinks_df['Thème'])\n",
    "word_counts = pd.DataFrame(X.toarray(), columns=vectorizer.get_feature_names_out())\n",
    "word_counts"
   ]
  },
  {
   "cell_type": "code",
   "execution_count": 35,
   "metadata": {},
   "outputs": [],
   "source": [
    "\n",
    "#nutriscore_date='2017-06-01'\n",
    "\n",
    "def estimate_DiD(target_word, date = datetime.date(2017, 6, 1)):\n",
    "    data = pd.concat([drinks_df['clean_theme'], drinks_df['group'], word_counts], axis=1)\n",
    "    data['outcome'] = data[target_word]\n",
    "    data['prior'] = np.where(drinks_df['clean_date']<date, 1, 0)\n",
    "    data['post'] = np.where(drinks_df['clean_date']>=date, 1, 0)\n",
    "    data['treated'] = np.where(data['group'] == 'treatment', 1, 0)\n",
    "    data['post_treated'] = data['post'] * data['treated']\n",
    "    model = smf.ols('outcome ~ post + treated + post_treated', data=data).fit()\n",
    "    print(model.summary())\n",
    "    did_estimate = model.params['post_treated']\n",
    "    print('\\r-------------------------\\r')\n",
    "    print(f'DiD Estimate for the word {target_word}: {did_estimate}')\n",
    "    print('\\r-------------------------\\r')"
   ]
  },
  {
   "cell_type": "code",
   "execution_count": 36,
   "metadata": {},
   "outputs": [
    {
     "name": "stdout",
     "output_type": "stream",
     "text": [
      "                            OLS Regression Results                            \n",
      "==============================================================================\n",
      "Dep. Variable:                outcome   R-squared:                       0.050\n",
      "Model:                            OLS   Adj. R-squared:                  0.047\n",
      "Method:                 Least Squares   F-statistic:                     20.67\n",
      "Date:                Tue, 16 Jul 2024   Prob (F-statistic):           4.68e-13\n",
      "Time:                        12:49:00   Log-Likelihood:                -729.11\n",
      "No. Observations:                1194   AIC:                             1466.\n",
      "Df Residuals:                    1190   BIC:                             1487.\n",
      "Df Model:                           3                                         \n",
      "Covariance Type:            nonrobust                                         \n",
      "================================================================================\n",
      "                   coef    std err          t      P>|t|      [0.025      0.975]\n",
      "--------------------------------------------------------------------------------\n",
      "Intercept        0.0133      0.052      0.259      0.796      -0.088       0.114\n",
      "post             0.0876      0.067      1.308      0.191      -0.044       0.219\n",
      "treated          0.3008      0.057      5.240      0.000       0.188       0.413\n",
      "post_treated    -0.0507      0.074     -0.689      0.491      -0.195       0.094\n",
      "==============================================================================\n",
      "Omnibus:                     1572.619   Durbin-Watson:                   1.224\n",
      "Prob(Omnibus):                  0.000   Jarque-Bera (JB):              195.707\n",
      "Skew:                           0.769   Prob(JB):                     3.18e-43\n",
      "Kurtosis:                       1.747   Cond. No.                         14.9\n",
      "==============================================================================\n",
      "\n",
      "Notes:\n",
      "[1] Standard Errors assume that the covariance matrix of the errors is correctly specified.\n",
      "-------------------------\n",
      "DiD Estimate for the word gout: -0.050683796632378646\n",
      "-------------------------\n"
     ]
    }
   ],
   "source": [
    "estimate_DiD('gout')"
   ]
  },
  {
   "cell_type": "code",
   "execution_count": null,
   "metadata": {},
   "outputs": [],
   "source": []
  }
 ],
 "metadata": {
  "kernelspec": {
   "display_name": "Python 3",
   "language": "python",
   "name": "python3"
  },
  "language_info": {
   "codemirror_mode": {
    "name": "ipython",
    "version": 3
   },
   "file_extension": ".py",
   "mimetype": "text/x-python",
   "name": "python",
   "nbconvert_exporter": "python",
   "pygments_lexer": "ipython3",
   "version": "3.8.18"
  }
 },
 "nbformat": 4,
 "nbformat_minor": 2
}
